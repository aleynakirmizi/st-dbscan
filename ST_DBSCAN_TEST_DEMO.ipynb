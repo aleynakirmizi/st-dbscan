{
  "nbformat": 4,
  "nbformat_minor": 0,
  "metadata": {
    "colab": {
      "name": "ST-DBSCAN/TEST-DEMO.ipynb",
      "provenance": [],
      "collapsed_sections": [],
      "mount_file_id": "1IfU5vYCExK8_Y_88TS82MmokAevtyORC",
      "authorship_tag": "ABX9TyPnT4zBXpUcNWON2xCdj/Y8",
      "include_colab_link": true
    },
    "kernelspec": {
      "name": "python3",
      "display_name": "Python 3"
    },
    "language_info": {
      "name": "python"
    }
  },
  "cells": [
    {
      "cell_type": "markdown",
      "metadata": {
        "id": "view-in-github",
        "colab_type": "text"
      },
      "source": [
        "<a href=\"https://colab.research.google.com/github/aleynakirmizi/st-dbscan/blob/main/ST_DBSCAN_TEST_DEMO.ipynb\" target=\"_parent\"><img src=\"https://colab.research.google.com/assets/colab-badge.svg\" alt=\"Open In Colab\"/></a>"
      ]
    },
    {
      "cell_type": "markdown",
      "source": [
        "# **Libraries**"
      ],
      "metadata": {
        "id": "bGMS82EM1j6X"
      }
    },
    {
      "cell_type": "code",
      "execution_count": 1,
      "metadata": {
        "colab": {
          "base_uri": "https://localhost:8080/"
        },
        "id": "oRBIJGbUrqnc",
        "outputId": "aa610c30-fcb4-40cb-f949-6ca938756ff4"
      },
      "outputs": [
        {
          "output_type": "stream",
          "name": "stdout",
          "text": [
            "Collecting ciso8601\n",
            "  Downloading ciso8601-2.2.0.tar.gz (18 kB)\n",
            "  Installing build dependencies ... \u001b[?25l\u001b[?25hdone\n",
            "  Getting requirements to build wheel ... \u001b[?25l\u001b[?25hdone\n",
            "    Preparing wheel metadata ... \u001b[?25l\u001b[?25hdone\n",
            "Building wheels for collected packages: ciso8601\n",
            "  Building wheel for ciso8601 (PEP 517) ... \u001b[?25l\u001b[?25hdone\n",
            "  Created wheel for ciso8601: filename=ciso8601-2.2.0-cp37-cp37m-linux_x86_64.whl size=37527 sha256=00d7c3d59cce213d0307f59bb11d8924c95397a76ea1b4b54b5eddfb6c4f35b1\n",
            "  Stored in directory: /root/.cache/pip/wheels/ad/25/8f/3b0a82303191efe3c1204f3741c42d8eb2b0236567e22485de\n",
            "Successfully built ciso8601\n",
            "Installing collected packages: ciso8601\n",
            "Successfully installed ciso8601-2.2.0\n"
          ]
        }
      ],
      "source": [
        "! pip install ciso8601"
      ]
    },
    {
      "cell_type": "code",
      "source": [
        "import ciso8601\n",
        "import pandas as pd\n",
        "import time\n",
        "import re\n",
        "import string\n",
        "from sklearn.feature_extraction.text import  CountVectorizer\n",
        "import nltk\n",
        "import numpy as np\n",
        "import json\n",
        "from st_dbscan import st_dbSCAN"
      ],
      "metadata": {
        "id": "YOGgq7ysrwqU"
      },
      "execution_count": 3,
      "outputs": []
    },
    {
      "cell_type": "markdown",
      "source": [
        "# **Read Data**"
      ],
      "metadata": {
        "id": "eRlynOqv1nTa"
      }
    },
    {
      "cell_type": "code",
      "source": [
        "path = '/content/drive/MyDrive/News_Category_Dataset_v2.json'\n",
        "list_=[]\n",
        "with open(path) as files:\n",
        "  for file in files:\n",
        "    list_.append(json.loads(file))\n"
      ],
      "metadata": {
        "id": "EE3VI8XMr248"
      },
      "execution_count": 4,
      "outputs": []
    },
    {
      "cell_type": "code",
      "source": [
        "df = pd.DataFrame(list_).copy()\n",
        "df.head()"
      ],
      "metadata": {
        "colab": {
          "base_uri": "https://localhost:8080/",
          "height": 337
        },
        "id": "eUATEN5dr_e7",
        "outputId": "537c3f8a-3eeb-4c14-99d0-92591dc64a5e"
      },
      "execution_count": 5,
      "outputs": [
        {
          "output_type": "execute_result",
          "data": {
            "text/html": [
              "\n",
              "  <div id=\"df-b50d963c-1f08-4be8-b33b-6d5294787207\">\n",
              "    <div class=\"colab-df-container\">\n",
              "      <div>\n",
              "<style scoped>\n",
              "    .dataframe tbody tr th:only-of-type {\n",
              "        vertical-align: middle;\n",
              "    }\n",
              "\n",
              "    .dataframe tbody tr th {\n",
              "        vertical-align: top;\n",
              "    }\n",
              "\n",
              "    .dataframe thead th {\n",
              "        text-align: right;\n",
              "    }\n",
              "</style>\n",
              "<table border=\"1\" class=\"dataframe\">\n",
              "  <thead>\n",
              "    <tr style=\"text-align: right;\">\n",
              "      <th></th>\n",
              "      <th>category</th>\n",
              "      <th>headline</th>\n",
              "      <th>authors</th>\n",
              "      <th>link</th>\n",
              "      <th>short_description</th>\n",
              "      <th>date</th>\n",
              "    </tr>\n",
              "  </thead>\n",
              "  <tbody>\n",
              "    <tr>\n",
              "      <th>0</th>\n",
              "      <td>CRIME</td>\n",
              "      <td>There Were 2 Mass Shootings In Texas Last Week...</td>\n",
              "      <td>Melissa Jeltsen</td>\n",
              "      <td>https://www.huffingtonpost.com/entry/texas-ama...</td>\n",
              "      <td>She left her husband. He killed their children...</td>\n",
              "      <td>2018-05-26</td>\n",
              "    </tr>\n",
              "    <tr>\n",
              "      <th>1</th>\n",
              "      <td>ENTERTAINMENT</td>\n",
              "      <td>Will Smith Joins Diplo And Nicky Jam For The 2...</td>\n",
              "      <td>Andy McDonald</td>\n",
              "      <td>https://www.huffingtonpost.com/entry/will-smit...</td>\n",
              "      <td>Of course it has a song.</td>\n",
              "      <td>2018-05-26</td>\n",
              "    </tr>\n",
              "    <tr>\n",
              "      <th>2</th>\n",
              "      <td>ENTERTAINMENT</td>\n",
              "      <td>Hugh Grant Marries For The First Time At Age 57</td>\n",
              "      <td>Ron Dicker</td>\n",
              "      <td>https://www.huffingtonpost.com/entry/hugh-gran...</td>\n",
              "      <td>The actor and his longtime girlfriend Anna Ebe...</td>\n",
              "      <td>2018-05-26</td>\n",
              "    </tr>\n",
              "    <tr>\n",
              "      <th>3</th>\n",
              "      <td>ENTERTAINMENT</td>\n",
              "      <td>Jim Carrey Blasts 'Castrato' Adam Schiff And D...</td>\n",
              "      <td>Ron Dicker</td>\n",
              "      <td>https://www.huffingtonpost.com/entry/jim-carre...</td>\n",
              "      <td>The actor gives Dems an ass-kicking for not fi...</td>\n",
              "      <td>2018-05-26</td>\n",
              "    </tr>\n",
              "    <tr>\n",
              "      <th>4</th>\n",
              "      <td>ENTERTAINMENT</td>\n",
              "      <td>Julianna Margulies Uses Donald Trump Poop Bags...</td>\n",
              "      <td>Ron Dicker</td>\n",
              "      <td>https://www.huffingtonpost.com/entry/julianna-...</td>\n",
              "      <td>The \"Dietland\" actress said using the bags is ...</td>\n",
              "      <td>2018-05-26</td>\n",
              "    </tr>\n",
              "  </tbody>\n",
              "</table>\n",
              "</div>\n",
              "      <button class=\"colab-df-convert\" onclick=\"convertToInteractive('df-b50d963c-1f08-4be8-b33b-6d5294787207')\"\n",
              "              title=\"Convert this dataframe to an interactive table.\"\n",
              "              style=\"display:none;\">\n",
              "        \n",
              "  <svg xmlns=\"http://www.w3.org/2000/svg\" height=\"24px\"viewBox=\"0 0 24 24\"\n",
              "       width=\"24px\">\n",
              "    <path d=\"M0 0h24v24H0V0z\" fill=\"none\"/>\n",
              "    <path d=\"M18.56 5.44l.94 2.06.94-2.06 2.06-.94-2.06-.94-.94-2.06-.94 2.06-2.06.94zm-11 1L8.5 8.5l.94-2.06 2.06-.94-2.06-.94L8.5 2.5l-.94 2.06-2.06.94zm10 10l.94 2.06.94-2.06 2.06-.94-2.06-.94-.94-2.06-.94 2.06-2.06.94z\"/><path d=\"M17.41 7.96l-1.37-1.37c-.4-.4-.92-.59-1.43-.59-.52 0-1.04.2-1.43.59L10.3 9.45l-7.72 7.72c-.78.78-.78 2.05 0 2.83L4 21.41c.39.39.9.59 1.41.59.51 0 1.02-.2 1.41-.59l7.78-7.78 2.81-2.81c.8-.78.8-2.07 0-2.86zM5.41 20L4 18.59l7.72-7.72 1.47 1.35L5.41 20z\"/>\n",
              "  </svg>\n",
              "      </button>\n",
              "      \n",
              "  <style>\n",
              "    .colab-df-container {\n",
              "      display:flex;\n",
              "      flex-wrap:wrap;\n",
              "      gap: 12px;\n",
              "    }\n",
              "\n",
              "    .colab-df-convert {\n",
              "      background-color: #E8F0FE;\n",
              "      border: none;\n",
              "      border-radius: 50%;\n",
              "      cursor: pointer;\n",
              "      display: none;\n",
              "      fill: #1967D2;\n",
              "      height: 32px;\n",
              "      padding: 0 0 0 0;\n",
              "      width: 32px;\n",
              "    }\n",
              "\n",
              "    .colab-df-convert:hover {\n",
              "      background-color: #E2EBFA;\n",
              "      box-shadow: 0px 1px 2px rgba(60, 64, 67, 0.3), 0px 1px 3px 1px rgba(60, 64, 67, 0.15);\n",
              "      fill: #174EA6;\n",
              "    }\n",
              "\n",
              "    [theme=dark] .colab-df-convert {\n",
              "      background-color: #3B4455;\n",
              "      fill: #D2E3FC;\n",
              "    }\n",
              "\n",
              "    [theme=dark] .colab-df-convert:hover {\n",
              "      background-color: #434B5C;\n",
              "      box-shadow: 0px 1px 3px 1px rgba(0, 0, 0, 0.15);\n",
              "      filter: drop-shadow(0px 1px 2px rgba(0, 0, 0, 0.3));\n",
              "      fill: #FFFFFF;\n",
              "    }\n",
              "  </style>\n",
              "\n",
              "      <script>\n",
              "        const buttonEl =\n",
              "          document.querySelector('#df-b50d963c-1f08-4be8-b33b-6d5294787207 button.colab-df-convert');\n",
              "        buttonEl.style.display =\n",
              "          google.colab.kernel.accessAllowed ? 'block' : 'none';\n",
              "\n",
              "        async function convertToInteractive(key) {\n",
              "          const element = document.querySelector('#df-b50d963c-1f08-4be8-b33b-6d5294787207');\n",
              "          const dataTable =\n",
              "            await google.colab.kernel.invokeFunction('convertToInteractive',\n",
              "                                                     [key], {});\n",
              "          if (!dataTable) return;\n",
              "\n",
              "          const docLinkHtml = 'Like what you see? Visit the ' +\n",
              "            '<a target=\"_blank\" href=https://colab.research.google.com/notebooks/data_table.ipynb>data table notebook</a>'\n",
              "            + ' to learn more about interactive tables.';\n",
              "          element.innerHTML = '';\n",
              "          dataTable['output_type'] = 'display_data';\n",
              "          await google.colab.output.renderOutput(dataTable, element);\n",
              "          const docLink = document.createElement('div');\n",
              "          docLink.innerHTML = docLinkHtml;\n",
              "          element.appendChild(docLink);\n",
              "        }\n",
              "      </script>\n",
              "    </div>\n",
              "  </div>\n",
              "  "
            ],
            "text/plain": [
              "        category  ...        date\n",
              "0          CRIME  ...  2018-05-26\n",
              "1  ENTERTAINMENT  ...  2018-05-26\n",
              "2  ENTERTAINMENT  ...  2018-05-26\n",
              "3  ENTERTAINMENT  ...  2018-05-26\n",
              "4  ENTERTAINMENT  ...  2018-05-26\n",
              "\n",
              "[5 rows x 6 columns]"
            ]
          },
          "metadata": {},
          "execution_count": 5
        }
      ]
    },
    {
      "cell_type": "code",
      "source": [
        "df.shape"
      ],
      "metadata": {
        "colab": {
          "base_uri": "https://localhost:8080/"
        },
        "id": "3ViAqPwkr_hO",
        "outputId": "fe47f00a-edca-4221-8f02-3d284ae310bd"
      },
      "execution_count": 6,
      "outputs": [
        {
          "output_type": "execute_result",
          "data": {
            "text/plain": [
              "(200853, 6)"
            ]
          },
          "metadata": {},
          "execution_count": 6
        }
      ]
    },
    {
      "cell_type": "code",
      "source": [
        "df=df.head(1000)\n"
      ],
      "metadata": {
        "id": "otKsu4zXr_jk"
      },
      "execution_count": 7,
      "outputs": []
    },
    {
      "cell_type": "code",
      "source": [
        "train_data=df[['category','headline','date']]\n",
        "train_data['date'] = train_data['date'].apply(lambda x: ciso8601.parse_datetime(x))\n",
        "train_data['date'] = train_data['date'].apply(lambda x: time.mktime(x.timetuple()))"
      ],
      "metadata": {
        "colab": {
          "base_uri": "https://localhost:8080/"
        },
        "id": "ACeOX0pWr_l1",
        "outputId": "01bf475a-8018-4f35-9f07-ddbabd39215f"
      },
      "execution_count": 8,
      "outputs": [
        {
          "output_type": "stream",
          "name": "stderr",
          "text": [
            "/usr/local/lib/python3.7/dist-packages/ipykernel_launcher.py:2: SettingWithCopyWarning: \n",
            "A value is trying to be set on a copy of a slice from a DataFrame.\n",
            "Try using .loc[row_indexer,col_indexer] = value instead\n",
            "\n",
            "See the caveats in the documentation: https://pandas.pydata.org/pandas-docs/stable/user_guide/indexing.html#returning-a-view-versus-a-copy\n",
            "  \n",
            "/usr/local/lib/python3.7/dist-packages/ipykernel_launcher.py:3: SettingWithCopyWarning: \n",
            "A value is trying to be set on a copy of a slice from a DataFrame.\n",
            "Try using .loc[row_indexer,col_indexer] = value instead\n",
            "\n",
            "See the caveats in the documentation: https://pandas.pydata.org/pandas-docs/stable/user_guide/indexing.html#returning-a-view-versus-a-copy\n",
            "  This is separate from the ipykernel package so we can avoid doing imports until\n"
          ]
        }
      ]
    },
    {
      "cell_type": "markdown",
      "source": [
        "# **Cleaning the Data**"
      ],
      "metadata": {
        "id": "obUMUtF-1sBW"
      }
    },
    {
      "cell_type": "code",
      "source": [
        "nltk.download('punkt')\n",
        "nltk.download('stopwords')\n",
        "def clean_text(text):\n",
        "    text = text.lower()                                  # lower-case all characters\n",
        "    text =  re.sub(r'@\\S+', '',text)                     # remove twitter handles\n",
        "    text =  re.sub(r'http\\S+', '',text)                  # remove urls\n",
        "    text =  re.sub(r'pic.\\S+', '',text)\n",
        "    text =  re.sub(r\"[^a-zA-Z+']\", ' ',text)             # only keeps characters\n",
        "    text = re.sub(r'\\s+[a-zA-Z]\\s+', ' ', text+' ')      # keep words with length>1 only\n",
        "    text = \"\".join([i for i in text if i not in string.punctuation])\n",
        "    words = nltk.tokenize.word_tokenize(text)\n",
        "    stopwords = nltk.corpus.stopwords.words('english')   # remove stopwords\n",
        "    text = \" \".join([i for i in words if i not in stopwords and len(i)>2])\n",
        "    text= re.sub(\"\\s[\\s]+\", \" \",text).strip()            # remove repeated/leading/trailing spaces\n",
        "    return text"
      ],
      "metadata": {
        "colab": {
          "base_uri": "https://localhost:8080/"
        },
        "id": "sdWnpof3r_oN",
        "outputId": "cc5407d9-671d-4751-b9d0-70c4f5e5cb89"
      },
      "execution_count": 9,
      "outputs": [
        {
          "output_type": "stream",
          "name": "stdout",
          "text": [
            "[nltk_data] Downloading package punkt to /root/nltk_data...\n",
            "[nltk_data]   Unzipping tokenizers/punkt.zip.\n",
            "[nltk_data] Downloading package stopwords to /root/nltk_data...\n",
            "[nltk_data]   Unzipping corpora/stopwords.zip.\n"
          ]
        }
      ]
    },
    {
      "cell_type": "code",
      "source": [
        "train_data['Text_cleaning'] = train_data.headline.apply(clean_text)\n",
        "train_data['tokenized_sents'] = train_data.apply(lambda row: nltk.word_tokenize(row['Text_cleaning']), axis=1)\n",
        "data=train_data.loc[:,['date']].values\n",
        "df= pd.DataFrame()\n",
        "df[\"vector_text\"] = train_data['tokenized_sents']\n",
        "df[\"date\"] = data"
      ],
      "metadata": {
        "colab": {
          "base_uri": "https://localhost:8080/"
        },
        "id": "f2WnJn6Pr_qv",
        "outputId": "dde7392a-d5ce-40a3-ae55-a7595325d5a1"
      },
      "execution_count": 10,
      "outputs": [
        {
          "output_type": "stream",
          "name": "stderr",
          "text": [
            "/usr/local/lib/python3.7/dist-packages/ipykernel_launcher.py:1: SettingWithCopyWarning: \n",
            "A value is trying to be set on a copy of a slice from a DataFrame.\n",
            "Try using .loc[row_indexer,col_indexer] = value instead\n",
            "\n",
            "See the caveats in the documentation: https://pandas.pydata.org/pandas-docs/stable/user_guide/indexing.html#returning-a-view-versus-a-copy\n",
            "  \"\"\"Entry point for launching an IPython kernel.\n",
            "/usr/local/lib/python3.7/dist-packages/ipykernel_launcher.py:2: SettingWithCopyWarning: \n",
            "A value is trying to be set on a copy of a slice from a DataFrame.\n",
            "Try using .loc[row_indexer,col_indexer] = value instead\n",
            "\n",
            "See the caveats in the documentation: https://pandas.pydata.org/pandas-docs/stable/user_guide/indexing.html#returning-a-view-versus-a-copy\n",
            "  \n"
          ]
        }
      ]
    },
    {
      "cell_type": "code",
      "source": [
        "train_data['Text_cleaning'] = train_data.headline.apply(clean_text)\n",
        "vectorizer = CountVectorizer()\n",
        "data_vectorizer = vectorizer.fit_transform(train_data['Text_cleaning'])\n",
        "arr=data_vectorizer.todense()\n",
        "train_data['vectorized_text']=arr.tolist()\n",
        "train_data['tokenized_sents'] = train_data.apply(lambda row: nltk.word_tokenize(row['Text_cleaning']), axis=1)\n",
        "data=train_data.loc[:,['date']].values\n",
        "df= pd.DataFrame()\n",
        "df[\"vector_text\"] = train_data['tokenized_sents']\n",
        "df[\"date\"] = data\n",
        "data =(data-np.min(data))/(np.max(data)-np.min(data))\n",
        "df[\"date\"] = data*100\n"
      ],
      "metadata": {
        "id": "iEzF5iaer_s3"
      },
      "execution_count": 35,
      "outputs": []
    },
    {
      "cell_type": "code",
      "source": [
        "df.head()"
      ],
      "metadata": {
        "colab": {
          "base_uri": "https://localhost:8080/",
          "height": 206
        },
        "id": "5r41YzBZr_ve",
        "outputId": "614c023e-878d-479b-bf79-15da8a2bffb3"
      },
      "execution_count": 36,
      "outputs": [
        {
          "output_type": "execute_result",
          "data": {
            "text/html": [
              "\n",
              "  <div id=\"df-323b2449-7746-44cc-b42c-968fc5a89c00\">\n",
              "    <div class=\"colab-df-container\">\n",
              "      <div>\n",
              "<style scoped>\n",
              "    .dataframe tbody tr th:only-of-type {\n",
              "        vertical-align: middle;\n",
              "    }\n",
              "\n",
              "    .dataframe tbody tr th {\n",
              "        vertical-align: top;\n",
              "    }\n",
              "\n",
              "    .dataframe thead th {\n",
              "        text-align: right;\n",
              "    }\n",
              "</style>\n",
              "<table border=\"1\" class=\"dataframe\">\n",
              "  <thead>\n",
              "    <tr style=\"text-align: right;\">\n",
              "      <th></th>\n",
              "      <th>vector_text</th>\n",
              "      <th>date</th>\n",
              "    </tr>\n",
              "  </thead>\n",
              "  <tbody>\n",
              "    <tr>\n",
              "      <th>0</th>\n",
              "      <td>[mass, shootings, texas, last, week]</td>\n",
              "      <td>100.0</td>\n",
              "    </tr>\n",
              "    <tr>\n",
              "      <th>1</th>\n",
              "      <td>[smith, joins, diplo, nicky, jam, world, cups,...</td>\n",
              "      <td>100.0</td>\n",
              "    </tr>\n",
              "    <tr>\n",
              "      <th>2</th>\n",
              "      <td>[hugh, grant, marries, first, time, age]</td>\n",
              "      <td>100.0</td>\n",
              "    </tr>\n",
              "    <tr>\n",
              "      <th>3</th>\n",
              "      <td>[jim, carrey, blasts, castrato, adam, schiff, ...</td>\n",
              "      <td>100.0</td>\n",
              "    </tr>\n",
              "    <tr>\n",
              "      <th>4</th>\n",
              "      <td>[julianna, margulies, uses, donald, trump, poo...</td>\n",
              "      <td>100.0</td>\n",
              "    </tr>\n",
              "  </tbody>\n",
              "</table>\n",
              "</div>\n",
              "      <button class=\"colab-df-convert\" onclick=\"convertToInteractive('df-323b2449-7746-44cc-b42c-968fc5a89c00')\"\n",
              "              title=\"Convert this dataframe to an interactive table.\"\n",
              "              style=\"display:none;\">\n",
              "        \n",
              "  <svg xmlns=\"http://www.w3.org/2000/svg\" height=\"24px\"viewBox=\"0 0 24 24\"\n",
              "       width=\"24px\">\n",
              "    <path d=\"M0 0h24v24H0V0z\" fill=\"none\"/>\n",
              "    <path d=\"M18.56 5.44l.94 2.06.94-2.06 2.06-.94-2.06-.94-.94-2.06-.94 2.06-2.06.94zm-11 1L8.5 8.5l.94-2.06 2.06-.94-2.06-.94L8.5 2.5l-.94 2.06-2.06.94zm10 10l.94 2.06.94-2.06 2.06-.94-2.06-.94-.94-2.06-.94 2.06-2.06.94z\"/><path d=\"M17.41 7.96l-1.37-1.37c-.4-.4-.92-.59-1.43-.59-.52 0-1.04.2-1.43.59L10.3 9.45l-7.72 7.72c-.78.78-.78 2.05 0 2.83L4 21.41c.39.39.9.59 1.41.59.51 0 1.02-.2 1.41-.59l7.78-7.78 2.81-2.81c.8-.78.8-2.07 0-2.86zM5.41 20L4 18.59l7.72-7.72 1.47 1.35L5.41 20z\"/>\n",
              "  </svg>\n",
              "      </button>\n",
              "      \n",
              "  <style>\n",
              "    .colab-df-container {\n",
              "      display:flex;\n",
              "      flex-wrap:wrap;\n",
              "      gap: 12px;\n",
              "    }\n",
              "\n",
              "    .colab-df-convert {\n",
              "      background-color: #E8F0FE;\n",
              "      border: none;\n",
              "      border-radius: 50%;\n",
              "      cursor: pointer;\n",
              "      display: none;\n",
              "      fill: #1967D2;\n",
              "      height: 32px;\n",
              "      padding: 0 0 0 0;\n",
              "      width: 32px;\n",
              "    }\n",
              "\n",
              "    .colab-df-convert:hover {\n",
              "      background-color: #E2EBFA;\n",
              "      box-shadow: 0px 1px 2px rgba(60, 64, 67, 0.3), 0px 1px 3px 1px rgba(60, 64, 67, 0.15);\n",
              "      fill: #174EA6;\n",
              "    }\n",
              "\n",
              "    [theme=dark] .colab-df-convert {\n",
              "      background-color: #3B4455;\n",
              "      fill: #D2E3FC;\n",
              "    }\n",
              "\n",
              "    [theme=dark] .colab-df-convert:hover {\n",
              "      background-color: #434B5C;\n",
              "      box-shadow: 0px 1px 3px 1px rgba(0, 0, 0, 0.15);\n",
              "      filter: drop-shadow(0px 1px 2px rgba(0, 0, 0, 0.3));\n",
              "      fill: #FFFFFF;\n",
              "    }\n",
              "  </style>\n",
              "\n",
              "      <script>\n",
              "        const buttonEl =\n",
              "          document.querySelector('#df-323b2449-7746-44cc-b42c-968fc5a89c00 button.colab-df-convert');\n",
              "        buttonEl.style.display =\n",
              "          google.colab.kernel.accessAllowed ? 'block' : 'none';\n",
              "\n",
              "        async function convertToInteractive(key) {\n",
              "          const element = document.querySelector('#df-323b2449-7746-44cc-b42c-968fc5a89c00');\n",
              "          const dataTable =\n",
              "            await google.colab.kernel.invokeFunction('convertToInteractive',\n",
              "                                                     [key], {});\n",
              "          if (!dataTable) return;\n",
              "\n",
              "          const docLinkHtml = 'Like what you see? Visit the ' +\n",
              "            '<a target=\"_blank\" href=https://colab.research.google.com/notebooks/data_table.ipynb>data table notebook</a>'\n",
              "            + ' to learn more about interactive tables.';\n",
              "          element.innerHTML = '';\n",
              "          dataTable['output_type'] = 'display_data';\n",
              "          await google.colab.output.renderOutput(dataTable, element);\n",
              "          const docLink = document.createElement('div');\n",
              "          docLink.innerHTML = docLinkHtml;\n",
              "          element.appendChild(docLink);\n",
              "        }\n",
              "      </script>\n",
              "    </div>\n",
              "  </div>\n",
              "  "
            ],
            "text/plain": [
              "                                         vector_text   date\n",
              "0               [mass, shootings, texas, last, week]  100.0\n",
              "1  [smith, joins, diplo, nicky, jam, world, cups,...  100.0\n",
              "2           [hugh, grant, marries, first, time, age]  100.0\n",
              "3  [jim, carrey, blasts, castrato, adam, schiff, ...  100.0\n",
              "4  [julianna, margulies, uses, donald, trump, poo...  100.0"
            ]
          },
          "metadata": {},
          "execution_count": 36
        }
      ]
    },
    {
      "cell_type": "markdown",
      "source": [
        "# **Train**"
      ],
      "metadata": {
        "id": "szgWsiT8116C"
      }
    },
    {
      "cell_type": "code",
      "source": [
        "st = st_dbSCAN(df,0.8,50,5,5)\n",
        "ft=st.fit_transform(df)"
      ],
      "metadata": {
        "id": "pKj0Mklqr_xx"
      },
      "execution_count": 42,
      "outputs": []
    },
    {
      "cell_type": "code",
      "source": [
        "df.cluster.value_counts()"
      ],
      "metadata": {
        "colab": {
          "base_uri": "https://localhost:8080/"
        },
        "id": "2LIAfS1Qr_0L",
        "outputId": "0681fe1d-4f06-4b16-bf74-7042ad4650f1"
      },
      "execution_count": 47,
      "outputs": [
        {
          "output_type": "execute_result",
          "data": {
            "text/plain": [
              "-1     936\n",
              " 3      11\n",
              " 4       7\n",
              " 7       7\n",
              " 9       7\n",
              " 8       7\n",
              " 5       6\n",
              " 6       6\n",
              " 10      6\n",
              " 1       4\n",
              " 2       3\n",
              "Name: cluster, dtype: int64"
            ]
          },
          "metadata": {},
          "execution_count": 47
        }
      ]
    },
    {
      "cell_type": "markdown",
      "source": [
        "# **Visualization**"
      ],
      "metadata": {
        "id": "8WvON_q116Bo"
      }
    },
    {
      "cell_type": "code",
      "source": [
        "from sklearn.manifold import TSNE\n",
        "X_embedded = TSNE(n_components=2).fit_transform(train_data['vectorized_text'].values.tolist())\n",
        "df[\"x_component\"]=X_embedded[:,0]\n",
        "df[\"y_component\"]=X_embedded[:,1]\n",
        "df"
      ],
      "metadata": {
        "colab": {
          "base_uri": "https://localhost:8080/",
          "height": 563
        },
        "id": "ax1PIyMkuTwN",
        "outputId": "5a51c4e7-8142-4046-b755-2103435862f7"
      },
      "execution_count": 48,
      "outputs": [
        {
          "output_type": "stream",
          "name": "stderr",
          "text": [
            "/usr/local/lib/python3.7/dist-packages/sklearn/manifold/_t_sne.py:783: FutureWarning:\n",
            "\n",
            "The default initialization in TSNE will change from 'random' to 'pca' in 1.2.\n",
            "\n",
            "/usr/local/lib/python3.7/dist-packages/sklearn/manifold/_t_sne.py:793: FutureWarning:\n",
            "\n",
            "The default learning rate in TSNE will change from 200.0 to 'auto' in 1.2.\n",
            "\n"
          ]
        },
        {
          "output_type": "execute_result",
          "data": {
            "text/html": [
              "\n",
              "  <div id=\"df-aefb4883-69e2-4c7e-aca5-6ff398600296\">\n",
              "    <div class=\"colab-df-container\">\n",
              "      <div>\n",
              "<style scoped>\n",
              "    .dataframe tbody tr th:only-of-type {\n",
              "        vertical-align: middle;\n",
              "    }\n",
              "\n",
              "    .dataframe tbody tr th {\n",
              "        vertical-align: top;\n",
              "    }\n",
              "\n",
              "    .dataframe thead th {\n",
              "        text-align: right;\n",
              "    }\n",
              "</style>\n",
              "<table border=\"1\" class=\"dataframe\">\n",
              "  <thead>\n",
              "    <tr style=\"text-align: right;\">\n",
              "      <th></th>\n",
              "      <th>vector_text</th>\n",
              "      <th>date</th>\n",
              "      <th>x_component</th>\n",
              "      <th>y_component</th>\n",
              "      <th>cluster</th>\n",
              "    </tr>\n",
              "  </thead>\n",
              "  <tbody>\n",
              "    <tr>\n",
              "      <th>0</th>\n",
              "      <td>[mass, shootings, texas, last, week]</td>\n",
              "      <td>100.0</td>\n",
              "      <td>-2.035120</td>\n",
              "      <td>-2.209917</td>\n",
              "      <td>-1</td>\n",
              "    </tr>\n",
              "    <tr>\n",
              "      <th>1</th>\n",
              "      <td>[smith, joins, diplo, nicky, jam, world, cups,...</td>\n",
              "      <td>100.0</td>\n",
              "      <td>10.577222</td>\n",
              "      <td>-11.018361</td>\n",
              "      <td>-1</td>\n",
              "    </tr>\n",
              "    <tr>\n",
              "      <th>2</th>\n",
              "      <td>[hugh, grant, marries, first, time, age]</td>\n",
              "      <td>100.0</td>\n",
              "      <td>3.560725</td>\n",
              "      <td>3.808012</td>\n",
              "      <td>-1</td>\n",
              "    </tr>\n",
              "    <tr>\n",
              "      <th>3</th>\n",
              "      <td>[jim, carrey, blasts, castrato, adam, schiff, ...</td>\n",
              "      <td>100.0</td>\n",
              "      <td>-10.898386</td>\n",
              "      <td>21.735212</td>\n",
              "      <td>-1</td>\n",
              "    </tr>\n",
              "    <tr>\n",
              "      <th>4</th>\n",
              "      <td>[julianna, margulies, uses, donald, trump, poo...</td>\n",
              "      <td>100.0</td>\n",
              "      <td>-9.288064</td>\n",
              "      <td>13.342375</td>\n",
              "      <td>-1</td>\n",
              "    </tr>\n",
              "    <tr>\n",
              "      <th>...</th>\n",
              "      <td>...</td>\n",
              "      <td>...</td>\n",
              "      <td>...</td>\n",
              "      <td>...</td>\n",
              "      <td>...</td>\n",
              "    </tr>\n",
              "    <tr>\n",
              "      <th>995</th>\n",
              "      <td>[attorney, general, eric, schneiderman, resign...</td>\n",
              "      <td>0.0</td>\n",
              "      <td>15.245600</td>\n",
              "      <td>-18.790941</td>\n",
              "      <td>-1</td>\n",
              "    </tr>\n",
              "    <tr>\n",
              "      <th>996</th>\n",
              "      <td>[sanctuary, cities, working, trump, era, surpr...</td>\n",
              "      <td>0.0</td>\n",
              "      <td>-5.250202</td>\n",
              "      <td>6.582161</td>\n",
              "      <td>-1</td>\n",
              "    </tr>\n",
              "    <tr>\n",
              "      <th>997</th>\n",
              "      <td>[shepard, smith, cant, say, trump, pulled, ira...</td>\n",
              "      <td>0.0</td>\n",
              "      <td>-6.963584</td>\n",
              "      <td>3.231126</td>\n",
              "      <td>8</td>\n",
              "    </tr>\n",
              "    <tr>\n",
              "      <th>998</th>\n",
              "      <td>[stormy, daniels, finds, crunchy, new, way, ch...</td>\n",
              "      <td>0.0</td>\n",
              "      <td>-9.602845</td>\n",
              "      <td>0.872917</td>\n",
              "      <td>-1</td>\n",
              "    </tr>\n",
              "    <tr>\n",
              "      <th>999</th>\n",
              "      <td>[rainbow, mountains, peru, look, like, straigh...</td>\n",
              "      <td>0.0</td>\n",
              "      <td>12.841851</td>\n",
              "      <td>2.242163</td>\n",
              "      <td>-1</td>\n",
              "    </tr>\n",
              "  </tbody>\n",
              "</table>\n",
              "<p>1000 rows × 5 columns</p>\n",
              "</div>\n",
              "      <button class=\"colab-df-convert\" onclick=\"convertToInteractive('df-aefb4883-69e2-4c7e-aca5-6ff398600296')\"\n",
              "              title=\"Convert this dataframe to an interactive table.\"\n",
              "              style=\"display:none;\">\n",
              "        \n",
              "  <svg xmlns=\"http://www.w3.org/2000/svg\" height=\"24px\"viewBox=\"0 0 24 24\"\n",
              "       width=\"24px\">\n",
              "    <path d=\"M0 0h24v24H0V0z\" fill=\"none\"/>\n",
              "    <path d=\"M18.56 5.44l.94 2.06.94-2.06 2.06-.94-2.06-.94-.94-2.06-.94 2.06-2.06.94zm-11 1L8.5 8.5l.94-2.06 2.06-.94-2.06-.94L8.5 2.5l-.94 2.06-2.06.94zm10 10l.94 2.06.94-2.06 2.06-.94-2.06-.94-.94-2.06-.94 2.06-2.06.94z\"/><path d=\"M17.41 7.96l-1.37-1.37c-.4-.4-.92-.59-1.43-.59-.52 0-1.04.2-1.43.59L10.3 9.45l-7.72 7.72c-.78.78-.78 2.05 0 2.83L4 21.41c.39.39.9.59 1.41.59.51 0 1.02-.2 1.41-.59l7.78-7.78 2.81-2.81c.8-.78.8-2.07 0-2.86zM5.41 20L4 18.59l7.72-7.72 1.47 1.35L5.41 20z\"/>\n",
              "  </svg>\n",
              "      </button>\n",
              "      \n",
              "  <style>\n",
              "    .colab-df-container {\n",
              "      display:flex;\n",
              "      flex-wrap:wrap;\n",
              "      gap: 12px;\n",
              "    }\n",
              "\n",
              "    .colab-df-convert {\n",
              "      background-color: #E8F0FE;\n",
              "      border: none;\n",
              "      border-radius: 50%;\n",
              "      cursor: pointer;\n",
              "      display: none;\n",
              "      fill: #1967D2;\n",
              "      height: 32px;\n",
              "      padding: 0 0 0 0;\n",
              "      width: 32px;\n",
              "    }\n",
              "\n",
              "    .colab-df-convert:hover {\n",
              "      background-color: #E2EBFA;\n",
              "      box-shadow: 0px 1px 2px rgba(60, 64, 67, 0.3), 0px 1px 3px 1px rgba(60, 64, 67, 0.15);\n",
              "      fill: #174EA6;\n",
              "    }\n",
              "\n",
              "    [theme=dark] .colab-df-convert {\n",
              "      background-color: #3B4455;\n",
              "      fill: #D2E3FC;\n",
              "    }\n",
              "\n",
              "    [theme=dark] .colab-df-convert:hover {\n",
              "      background-color: #434B5C;\n",
              "      box-shadow: 0px 1px 3px 1px rgba(0, 0, 0, 0.15);\n",
              "      filter: drop-shadow(0px 1px 2px rgba(0, 0, 0, 0.3));\n",
              "      fill: #FFFFFF;\n",
              "    }\n",
              "  </style>\n",
              "\n",
              "      <script>\n",
              "        const buttonEl =\n",
              "          document.querySelector('#df-aefb4883-69e2-4c7e-aca5-6ff398600296 button.colab-df-convert');\n",
              "        buttonEl.style.display =\n",
              "          google.colab.kernel.accessAllowed ? 'block' : 'none';\n",
              "\n",
              "        async function convertToInteractive(key) {\n",
              "          const element = document.querySelector('#df-aefb4883-69e2-4c7e-aca5-6ff398600296');\n",
              "          const dataTable =\n",
              "            await google.colab.kernel.invokeFunction('convertToInteractive',\n",
              "                                                     [key], {});\n",
              "          if (!dataTable) return;\n",
              "\n",
              "          const docLinkHtml = 'Like what you see? Visit the ' +\n",
              "            '<a target=\"_blank\" href=https://colab.research.google.com/notebooks/data_table.ipynb>data table notebook</a>'\n",
              "            + ' to learn more about interactive tables.';\n",
              "          element.innerHTML = '';\n",
              "          dataTable['output_type'] = 'display_data';\n",
              "          await google.colab.output.renderOutput(dataTable, element);\n",
              "          const docLink = document.createElement('div');\n",
              "          docLink.innerHTML = docLinkHtml;\n",
              "          element.appendChild(docLink);\n",
              "        }\n",
              "      </script>\n",
              "    </div>\n",
              "  </div>\n",
              "  "
            ],
            "text/plain": [
              "                                           vector_text  ...  cluster\n",
              "0                 [mass, shootings, texas, last, week]  ...       -1\n",
              "1    [smith, joins, diplo, nicky, jam, world, cups,...  ...       -1\n",
              "2             [hugh, grant, marries, first, time, age]  ...       -1\n",
              "3    [jim, carrey, blasts, castrato, adam, schiff, ...  ...       -1\n",
              "4    [julianna, margulies, uses, donald, trump, poo...  ...       -1\n",
              "..                                                 ...  ...      ...\n",
              "995  [attorney, general, eric, schneiderman, resign...  ...       -1\n",
              "996  [sanctuary, cities, working, trump, era, surpr...  ...       -1\n",
              "997  [shepard, smith, cant, say, trump, pulled, ira...  ...        8\n",
              "998  [stormy, daniels, finds, crunchy, new, way, ch...  ...       -1\n",
              "999  [rainbow, mountains, peru, look, like, straigh...  ...       -1\n",
              "\n",
              "[1000 rows x 5 columns]"
            ]
          },
          "metadata": {},
          "execution_count": 48
        }
      ]
    },
    {
      "cell_type": "code",
      "source": [
        "X_embedded"
      ],
      "metadata": {
        "colab": {
          "base_uri": "https://localhost:8080/"
        },
        "id": "1NDjq4_szpny",
        "outputId": "d34aae40-78ec-4ca4-f707-978e359d036a"
      },
      "execution_count": 49,
      "outputs": [
        {
          "output_type": "execute_result",
          "data": {
            "text/plain": [
              "array([[ -2.03512  ,  -2.2099168],\n",
              "       [ 10.577222 , -11.018361 ],\n",
              "       [  3.5607247,   3.808012 ],\n",
              "       ...,\n",
              "       [ -6.9635844,   3.2311258],\n",
              "       [ -9.602845 ,   0.872917 ],\n",
              "       [ 12.841851 ,   2.2421627]], dtype=float32)"
            ]
          },
          "metadata": {},
          "execution_count": 49
        }
      ]
    },
    {
      "cell_type": "code",
      "source": [
        "import plotly.express as px\n",
        "    \n",
        "fig = px.scatter(df, x=\"x_component\", y=\"y_component\", color = \"cluster\", size_max=60)\n",
        "fig.update_layout(\n",
        "     height=800)\n",
        "fig.show()"
      ],
      "metadata": {
        "colab": {
          "base_uri": "https://localhost:8080/",
          "height": 817
        },
        "id": "f-66H2RXvfAB",
        "outputId": "a27e9e99-c872-4d86-b141-e234fafe331c"
      },
      "execution_count": 50,
      "outputs": [
        {
          "output_type": "display_data",
          "data": {
            "text/html": [
              "<html>\n",
              "<head><meta charset=\"utf-8\" /></head>\n",
              "<body>\n",
              "    <div>            <script src=\"https://cdnjs.cloudflare.com/ajax/libs/mathjax/2.7.5/MathJax.js?config=TeX-AMS-MML_SVG\"></script><script type=\"text/javascript\">if (window.MathJax) {MathJax.Hub.Config({SVG: {font: \"STIX-Web\"}});}</script>                <script type=\"text/javascript\">window.PlotlyConfig = {MathJaxConfig: 'local'};</script>\n",
              "        <script src=\"https://cdn.plot.ly/plotly-2.8.3.min.js\"></script>                <div id=\"b7c41b70-ccb0-4605-8d0b-e78e44f91673\" class=\"plotly-graph-div\" style=\"height:800px; width:100%;\"></div>            <script type=\"text/javascript\">                                    window.PLOTLYENV=window.PLOTLYENV || {};                                    if (document.getElementById(\"b7c41b70-ccb0-4605-8d0b-e78e44f91673\")) {                    Plotly.newPlot(                        \"b7c41b70-ccb0-4605-8d0b-e78e44f91673\",                        [{\"hovertemplate\":\"x_component=%{x}<br>y_component=%{y}<br>cluster=%{marker.color}<extra></extra>\",\"legendgroup\":\"\",\"marker\":{\"color\":[-1,-1,-1,-1,-1,-1,-1,5,-1,5,1,2,-1,-1,-1,-1,-1,-1,-1,-1,-1,-1,-1,3,-1,-1,-1,-1,-1,-1,-1,-1,-1,-1,-1,-1,-1,-1,3,-1,-1,-1,6,-1,-1,-1,-1,-1,-1,-1,-1,-1,-1,-1,-1,-1,-1,3,-1,-1,-1,-1,-1,1,-1,-1,-1,-1,-1,-1,-1,-1,-1,3,-1,-1,3,-1,-1,-1,-1,-1,-1,-1,-1,-1,-1,-1,-1,-1,-1,3,-1,-1,-1,-1,-1,-1,-1,-1,-1,-1,-1,-1,-1,-1,-1,-1,-1,-1,-1,-1,-1,-1,-1,-1,-1,-1,-1,3,2,-1,-1,-1,-1,-1,-1,-1,-1,-1,-1,-1,-1,-1,-1,-1,-1,-1,-1,-1,-1,-1,-1,-1,-1,-1,-1,-1,-1,-1,-1,-1,-1,-1,-1,-1,-1,-1,-1,-1,-1,-1,-1,4,-1,-1,-1,-1,-1,-1,-1,-1,-1,-1,-1,-1,-1,-1,4,-1,-1,-1,-1,-1,-1,-1,-1,-1,-1,-1,4,-1,-1,-1,-1,-1,-1,-1,-1,-1,-1,-1,-1,4,-1,-1,-1,-1,-1,-1,-1,-1,-1,-1,-1,-1,-1,-1,-1,-1,-1,-1,-1,-1,-1,-1,-1,-1,-1,-1,-1,-1,-1,-1,-1,-1,-1,-1,-1,-1,-1,-1,-1,4,-1,-1,2,-1,-1,-1,-1,-1,-1,-1,-1,-1,-1,-1,-1,-1,-1,-1,-1,-1,-1,-1,-1,-1,-1,-1,-1,-1,-1,-1,-1,-1,-1,-1,-1,-1,-1,-1,1,-1,-1,-1,-1,-1,-1,-1,-1,-1,-1,-1,-1,-1,-1,-1,-1,-1,-1,-1,-1,-1,-1,-1,-1,-1,-1,-1,-1,-1,-1,-1,-1,-1,-1,-1,-1,-1,-1,-1,-1,-1,-1,-1,-1,-1,-1,-1,-1,-1,-1,-1,6,-1,-1,-1,-1,-1,-1,1,-1,-1,-1,-1,-1,-1,-1,-1,-1,-1,5,-1,-1,-1,-1,-1,-1,-1,6,-1,-1,-1,6,-1,5,-1,-1,-1,-1,3,-1,-1,-1,-1,-1,-1,-1,-1,-1,-1,-1,-1,-1,-1,-1,-1,-1,-1,-1,-1,-1,-1,-1,-1,-1,-1,-1,6,-1,-1,-1,-1,-1,-1,-1,-1,-1,-1,-1,-1,-1,-1,-1,-1,-1,-1,-1,-1,-1,6,-1,-1,-1,-1,-1,-1,-1,-1,-1,-1,-1,-1,-1,-1,-1,-1,-1,-1,-1,-1,-1,-1,-1,-1,7,-1,-1,-1,-1,3,-1,-1,-1,-1,-1,-1,-1,-1,-1,-1,-1,-1,-1,-1,-1,-1,-1,-1,-1,-1,-1,-1,-1,-1,-1,-1,-1,-1,-1,-1,-1,-1,-1,-1,-1,3,-1,-1,-1,-1,7,-1,-1,-1,-1,-1,9,-1,-1,4,-1,-1,-1,-1,-1,-1,-1,-1,-1,-1,-1,-1,-1,-1,-1,-1,-1,-1,-1,-1,-1,-1,-1,4,-1,-1,-1,-1,-1,-1,-1,-1,-1,-1,-1,3,-1,-1,-1,-1,-1,-1,-1,-1,-1,-1,-1,-1,-1,-1,-1,-1,-1,-1,-1,-1,-1,-1,-1,-1,-1,-1,-1,-1,-1,7,-1,-1,-1,-1,-1,-1,-1,-1,-1,-1,-1,-1,-1,-1,7,-1,-1,-1,-1,-1,-1,-1,-1,-1,-1,-1,-1,-1,-1,-1,-1,-1,-1,-1,-1,-1,-1,-1,-1,-1,-1,-1,-1,-1,-1,-1,-1,-1,-1,-1,-1,-1,-1,-1,-1,-1,-1,-1,-1,-1,-1,-1,-1,-1,-1,-1,-1,-1,-1,-1,-1,-1,-1,-1,-1,-1,-1,-1,-1,-1,-1,-1,-1,-1,-1,-1,-1,-1,-1,-1,-1,-1,-1,-1,-1,-1,-1,-1,-1,-1,-1,-1,-1,-1,-1,-1,-1,-1,-1,-1,-1,-1,-1,-1,-1,-1,-1,-1,-1,-1,-1,-1,-1,-1,-1,-1,-1,-1,-1,-1,5,5,-1,-1,-1,-1,-1,-1,-1,-1,-1,-1,-1,-1,-1,-1,-1,-1,-1,-1,-1,-1,-1,-1,-1,-1,-1,-1,-1,-1,-1,-1,-1,-1,-1,-1,-1,-1,-1,-1,-1,-1,-1,-1,-1,-1,-1,-1,-1,-1,-1,-1,-1,-1,-1,-1,-1,-1,-1,-1,-1,-1,-1,-1,-1,-1,-1,-1,-1,-1,-1,-1,-1,-1,-1,-1,-1,-1,-1,-1,-1,-1,9,-1,-1,-1,-1,-1,-1,-1,-1,-1,-1,-1,-1,-1,-1,-1,-1,-1,-1,-1,-1,-1,-1,-1,7,-1,-1,-1,-1,-1,-1,-1,-1,-1,-1,-1,-1,-1,-1,-1,-1,-1,-1,-1,-1,-1,-1,-1,-1,-1,-1,-1,-1,-1,-1,-1,-1,-1,-1,-1,-1,-1,-1,-1,9,-1,-1,-1,-1,-1,-1,-1,-1,-1,-1,-1,-1,-1,-1,8,-1,-1,-1,-1,-1,-1,-1,-1,-1,-1,7,-1,-1,-1,-1,-1,-1,-1,7,9,-1,-1,-1,-1,-1,-1,-1,-1,-1,-1,-1,-1,-1,-1,-1,-1,-1,-1,-1,-1,-1,-1,-1,-1,-1,-1,-1,-1,-1,-1,-1,-1,9,-1,-1,-1,-1,-1,-1,-1,-1,-1,-1,-1,-1,-1,-1,-1,-1,-1,-1,-1,-1,8,-1,-1,8,-1,-1,-1,10,-1,9,10,-1,8,-1,9,10,-1,8,-1,-1,-1,-1,10,-1,-1,10,-1,-1,-1,-1,-1,-1,-1,-1,-1,-1,-1,8,-1,-1,-1,10,-1,-1,-1,-1,-1,-1,-1,-1,-1,-1,-1,-1,-1,-1,-1,-1,-1,-1,-1,-1,-1,-1,8,-1,-1],\"coloraxis\":\"coloraxis\",\"symbol\":\"circle\"},\"mode\":\"markers\",\"name\":\"\",\"orientation\":\"v\",\"showlegend\":false,\"x\":[-2.0351200103759766,10.577221870422363,3.5607247352600098,-10.898386001586914,-9.288064002990723,0.022620201110839844,-6.239263534545898,7.108969688415527,9.331477165222168,7.346205711364746,-1.840811014175415,-13.908037185668945,15.470455169677734,-2.782115936279297,0.26828351616859436,-8.183858871459961,6.5243821144104,-10.797517776489258,-3.6149098873138428,3.9265646934509277,-4.36273717880249,3.2630181312561035,1.4688056707382202,-13.966541290283203,0.550910472869873,-10.62661075592041,-11.377726554870605,4.768496513366699,5.08888053894043,13.34191608428955,-4.020224094390869,4.194587707519531,7.644906520843506,-17.553489685058594,4.383260250091553,0.023318933323025703,-5.993627071380615,7.5199875831604,-13.504977226257324,11.16243839263916,7.935461521148682,-0.8112912178039551,-1.5735081434249878,19.50313949584961,3.8642938137054443,13.661114692687988,2.564021110534668,2.6662392616271973,-0.5104171633720398,-1.1395505666732788,-2.9514405727386475,16.96921730041504,1.1267486810684204,18.20261573791504,19.424997329711914,6.9107346534729,14.640018463134766,-14.092240333557129,17.710458755493164,14.783060073852539,2.1831517219543457,-18.63548469543457,3.1732237339019775,-1.987524151802063,6.6167755126953125,7.6928791999816895,5.594085693359375,19.049671173095703,3.3763508796691895,-1.8552056550979614,10.944427490234375,-7.856368541717529,-3.4308853149414062,-14.26125431060791,12.58213996887207,-17.641334533691406,-13.596336364746094,22.175315856933594,-20.429903030395508,0.04108484834432602,3.5630838871002197,-12.944332122802734,2.8915858268737793,-1.5506398677825928,-5.554742813110352,-6.20598030090332,-9.1399564743042,7.506446361541748,2.6901001930236816,4.646173477172852,-3.3132967948913574,-13.708292007446289,0.021101204678416252,-0.29880714416503906,-9.550480842590332,-6.081661701202393,7.393795967102051,-2.163820505142212,-5.20012903213501,-6.975210189819336,-8.57532787322998,-4.9559245109558105,6.9012932777404785,-9.244397163391113,3.4342074394226074,-13.91995620727539,11.556309700012207,19.011178970336914,-6.695088863372803,7.185305595397949,7.184061050415039,19.432723999023438,0.13431048393249512,-0.1494561731815338,-13.034027099609375,-0.6512943506240845,-0.32868877053260803,-0.792015552520752,-15.913683891296387,-13.40788459777832,-13.157331466674805,8.216842651367188,-2.7411112785339355,-8.645164489746094,-10.186687469482422,19.146705627441406,7.477782726287842,-6.712742328643799,4.665264129638672,7.032268047332764,-3.9576454162597656,7.427614688873291,-10.186527252197266,-1.464537501335144,2.3006997108459473,-1.6199630498886108,3.704869508743286,9.19068717956543,1.8395603895187378,6.1539387702941895,7.904760360717773,9.596988677978516,2.429903745651245,-5.665374755859375,6.506095886230469,3.4643757343292236,4.320969104766846,3.1836769580841064,8.05819320678711,7.963243007659912,5.278735160827637,-16.64016342163086,-15.047806739807129,-8.842209815979004,18.605077743530273,9.28026294708252,-16.65749168395996,2.1452012062072754,23.78340721130371,5.910165309906006,-7.650004863739014,1.1307884454727173,4.465228080749512,-18.531715393066406,-6.341704368591309,22.78401756286621,1.0768734216690063,9.023322105407715,1.2214330434799194,-5.86284065246582,-6.8310980796813965,-8.508684158325195,0.014243477955460548,-7.601966381072998,17.303585052490234,9.422140121459961,-0.3616011440753937,-18.351116180419922,-20.123640060424805,-9.012128829956055,0.2584758996963501,-1.2334035634994507,-8.16336441040039,4.599645137786865,10.799690246582031,10.011872291564941,3.9177608489990234,-20.08230972290039,-5.461244583129883,-12.713557243347168,-17.351181030273438,18.590728759765625,-12.709651947021484,1.3636878728866577,-4.078322410583496,-4.712025165557861,-7.025004863739014,-10.678179740905762,9.068222999572754,-9.036504745483398,-0.5447218418121338,-8.830829620361328,14.995174407958984,-19.227781295776367,-0.1599004566669464,10.620580673217773,14.436214447021484,4.144164562225342,-20.67782974243164,12.208389282226562,-7.195485591888428,14.260050773620605,-9.086443901062012,-11.547295570373535,4.640170097351074,6.105918884277344,-14.627955436706543,-8.561668395996094,-9.609251976013184,16.970041275024414,-10.771608352661133,-5.531733989715576,-8.295796394348145,14.894609451293945,4.482424259185791,2.6798899173736572,11.345659255981445,12.983848571777344,10.316343307495117,14.81165599822998,-6.955785274505615,-4.047806739807129,-10.737875938415527,11.777466773986816,-20.669645309448242,-8.546269416809082,7.531122207641602,3.060307025909424,-1.6048307418823242,-20.514419555664062,-17.25030517578125,13.095870971679688,4.9379377365112305,-18.31328582763672,17.37661361694336,5.859607696533203,-10.931614875793457,8.065206527709961,0.05544860661029816,-7.387824058532715,-6.19427490234375,17.577774047851562,6.522031784057617,6.609167575836182,-18.16624641418457,9.360203742980957,-8.043889045715332,11.765923500061035,-14.074373245239258,9.270063400268555,-6.314067840576172,3.7103657722473145,-7.91223669052124,1.3235081434249878,-8.78293228149414,2.3899312019348145,-10.682419776916504,9.932280540466309,18.422697067260742,9.491127014160156,-8.925187110900879,10.64492416381836,3.736895799636841,13.398646354675293,-3.98325514793396,0.18845519423484802,15.799074172973633,-6.353389739990234,14.953588485717773,26.30520248413086,5.5677595138549805,7.375304222106934,26.34395408630371,-4.032656669616699,18.0035400390625,-3.3746848106384277,0.41479355096817017,15.349082946777344,17.716588973999023,2.5929348468780518,12.896638870239258,8.517545700073242,0.0946582555770874,21.181859970092773,-18.74126625061035,1.6489213705062866,1.68352472782135,9.380728721618652,17.82001304626465,-2.9229772090911865,3.4400830268859863,26.364282608032227,1.4192225933074951,4.240555286407471,-7.84919548034668,-7.2066826820373535,0.948157012462616,2.7186131477355957,-0.6380323171615601,13.087124824523926,2.4018843173980713,9.112051963806152,26.666837692260742,8.208868980407715,7.340615749359131,14.138519287109375,-19.214969635009766,-16.749317169189453,12.51537036895752,11.568709373474121,5.275155544281006,14.109025955200195,-14.73686408996582,6.137413501739502,-5.099972724914551,-4.104571342468262,0.6819471716880798,-5.294451713562012,-12.729745864868164,-11.993772506713867,-2.471020221710205,-19.682737350463867,-0.7269845008850098,1.913863182067871,-2.399388313293457,-10.463776588439941,-18.92023277282715,-3.649491310119629,-9.931624412536621,19.15931510925293,-1.2798494100570679,-1.3552370071411133,-3.9609365463256836,23.36795425415039,-2.0605382919311523,-0.38506171107292175,-7.881502628326416,20.093027114868164,-2.505511522293091,-19.080440521240234,-19.839630126953125,-10.54476547241211,7.093555450439453,-19.581167221069336,0.6478094458580017,-11.626611709594727,-1.0476995706558228,4.129497528076172,3.689887285232544,-17.29483985900879,-1.5648757219314575,7.060321807861328,-8.927411079406738,-13.474781036376953,-2.275753974914551,-1.0669397115707397,7.348283767700195,1.9162315130233765,-11.018343925476074,20.091928482055664,0.7775696516036987,-14.399553298950195,-8.881475448608398,-2.54860520362854,-0.7281378507614136,10.13245964050293,14.755926132202148,-18.612150192260742,11.188459396362305,4.150417804718018,-10.381464004516602,9.699959754943848,-10.556073188781738,13.392297744750977,-9.347563743591309,23.223997116088867,23.917591094970703,1.8211137056350708,2.2000997066497803,-16.44312286376953,2.5672667026519775,5.408760070800781,1.9187062978744507,-7.735283374786377,7.339538097381592,-10.529007911682129,-1.077419400215149,-6.633212566375732,18.05891990661621,-1.3395074605941772,5.1702985763549805,-0.4269994795322418,1.784063696861267,-3.310434341430664,-4.561886787414551,13.628390312194824,6.396389007568359,-11.184649467468262,3.5025405883789062,0.406247615814209,5.172236442565918,-9.141386032104492,8.144431114196777,7.68887996673584,9.717965126037598,-2.859297513961792,1.5421838760375977,2.801515817642212,8.488515853881836,-4.14517879486084,-5.898611068725586,-1.9901973009109497,-16.97020721435547,1.2014676332473755,-0.9113205075263977,-0.24748678505420685,0.8381168842315674,12.018807411193848,17.10847282409668,3.3763363361358643,6.032390117645264,-1.2814934253692627,1.2514854669570923,-16.459667205810547,-5.018721103668213,-12.267876625061035,4.557470321655273,-11.810914039611816,12.084372520446777,6.024089813232422,-5.49069356918335,-3.389942169189453,-1.271206259727478,16.632341384887695,-2.662813663482666,8.850873947143555,-4.437607765197754,15.771187782287598,23.447998046875,15.617444038391113,-7.81519889831543,-9.321551322937012,-11.774338722229004,-5.1860175132751465,0.21780291199684143,3.44650936126709,9.053642272949219,-6.821977138519287,-13.743204116821289,5.625370025634766,16.50089454650879,14.177447319030762,8.769135475158691,-7.476164817810059,17.488004684448242,3.089533805847168,3.6065852642059326,3.041431427001953,-9.09056568145752,2.0545060634613037,-9.604238510131836,1.2205992937088013,14.504191398620605,15.245604515075684,1.8597100973129272,-7.820849418640137,9.053754806518555,6.7928786277771,10.418004035949707,14.359234809875488,-0.010063501074910164,17.95480728149414,-11.143104553222656,11.863710403442383,-8.847257614135742,5.376915454864502,3.7854506969451904,-13.960274696350098,11.841405868530273,13.776222229003906,12.701032638549805,-1.5258369445800781,-4.864928722381592,0.2510680854320526,12.933757781982422,-7.042995929718018,6.146806240081787,-11.604424476623535,-0.28811922669410706,2.4815711975097656,-17.284460067749023,-20.080921173095703,8.722167015075684,-5.232876300811768,9.090248107910156,-4.999487400054932,4.232631206512451,2.4588186740875244,13.97208309173584,-11.09166145324707,-11.602726936340332,5.733110427856445,2.8935577869415283,-12.925261497497559,15.629274368286133,-3.199923515319824,2.0974464416503906,4.446892261505127,-8.973518371582031,3.648193597793579,12.802308082580566,14.595968246459961,8.152644157409668,-5.919813632965088,2.8897459506988525,-19.202564239501953,-6.290343761444092,-4.310846328735352,1.3654388189315796,-1.990177869796753,6.2310357093811035,12.395336151123047,-11.329055786132812,-14.649950981140137,3.1514511108398438,3.6029531955718994,-5.519143581390381,-10.909220695495605,-9.373270988464355,-18.569303512573242,10.71949577331543,-3.840054750442505,-7.543642997741699,-12.84304428100586,-5.987583160400391,-10.157209396362305,7.392999649047852,-13.359996795654297,-8.938445091247559,-5.317804336547852,10.60900592803955,11.236540794372559,1.414520502090454,10.279943466186523,-13.762480735778809,-11.105941772460938,13.259647369384766,2.41874623298645,19.928375244140625,15.099756240844727,-5.352838039398193,8.349798202514648,1.6674951314926147,-2.6594505310058594,-2.2813990116119385,13.521035194396973,-18.0474796295166,-4.493294715881348,10.107185363769531,-5.777586460113525,-5.097668647766113,7.724551677703857,-18.267475128173828,10.347086906433105,2.7572836875915527,-5.280123710632324,3.4380812644958496,-7.929581165313721,8.800775527954102,6.1809844970703125,-2.583529233932495,4.809871673583984,-4.43720817565918,4.753961086273193,8.57109546661377,-0.14582018554210663,-9.438366889953613,5.024174690246582,3.3162801265716553,-9.613801956176758,11.848923683166504,-15.660934448242188,4.811560153961182,3.7202634811401367,13.681035041809082,3.3623714447021484,-5.129972457885742,-8.80377197265625,22.032684326171875,14.432807922363281,-3.83851957321167,-7.6866278648376465,5.024019718170166,9.514644622802734,0.8606870770454407,9.313288688659668,3.176223039627075,-2.0695323944091797,13.689571380615234,6.716464996337891,3.365687608718872,4.184734344482422,7.06104850769043,10.943849563598633,5.335722923278809,2.6750404834747314,1.9546657800674438,5.178771018981934,6.760178565979004,6.665236949920654,13.830845832824707,-3.537717819213867,8.616534233093262,-18.653474807739258,-0.31623560190200806,3.5404319763183594,8.24804401397705,2.9483304023742676,5.196620941162109,1.6489121913909912,7.756457805633545,-8.122690200805664,-4.073441505432129,5.375671863555908,6.711400508880615,-14.599164962768555,19.54412078857422,10.14140796661377,-1.0200245380401611,22.095571517944336,12.91392707824707,-1.5690255165100098,5.278585910797119,9.919979095458984,4.776864051818848,-2.0552282333374023,-7.389538288116455,15.76013469696045,8.835747718811035,-0.23619937896728516,2.6635804176330566,-6.407780170440674,0.19694237411022186,-6.934751987457275,-6.594273567199707,13.656180381774902,-19.17972183227539,-16.253677368164062,-0.3462653160095215,22.085512161254883,11.936883926391602,8.356528282165527,16.46466064453125,24.185598373413086,4.117398738861084,-4.3747172355651855,7.712669372558594,13.423173904418945,7.174667835235596,7.0485920906066895,-7.017348766326904,3.3023650646209717,-0.41857072710990906,4.225697994232178,13.266888618469238,-5.3852033615112305,-13.295661926269531,0.9250965714454651,-5.42095422744751,9.70821762084961,10.100860595703125,19.538362503051758,3.367893695831299,15.59628963470459,-2.6019866466522217,11.493139266967773,-9.722145080566406,-6.395720958709717,-5.070292949676514,-0.13178659975528717,-6.396845817565918,23.71721649169922,11.940668106079102,12.298951148986816,-9.912982940673828,5.725295066833496,-17.644378662109375,5.698587417602539,7.3462700843811035,7.100143909454346,-9.585031509399414,13.360211372375488,-2.724224090576172,6.531813621520996,0.19678251445293427,-4.962209224700928,0.3397761583328247,4.303534507751465,0.717828094959259,9.484861373901367,2.560588836669922,1.0488650798797607,3.0006017684936523,-1.1585043668746948,-6.768825531005859,5.577813148498535,1.0140013694763184,16.81443214416504,9.812265396118164,-18.227500915527344,14.364005088806152,3.4761455059051514,10.845983505249023,-10.915289878845215,-2.254603624343872,-2.467618703842163,11.528437614440918,15.079833984375,-6.725310325622559,13.04946517944336,-9.3703031539917,-2.751840591430664,5.1842875480651855,5.161163330078125,-1.6221051216125488,-18.731210708618164,7.424862861633301,1.0967038869857788,8.811795234680176,5.400371074676514,-9.523941993713379,-11.98024845123291,-0.4302968680858612,2.8862502574920654,-6.528787612915039,-7.0523552894592285,-19.92827033996582,-7.872196674346924,-8.105996131896973,10.745013236999512,0.19357244670391083,-16.493852615356445,-7.208310127258301,10.842011451721191,-3.4083495140075684,-7.563967704772949,6.61195182800293,-0.2838340699672699,-19.17717933654785,-2.653204917907715,9.189674377441406,-9.27277660369873,7.086079120635986,-11.987765312194824,-0.9036178588867188,12.102882385253906,-18.984817504882812,-1.6219590902328491,3.2670021057128906,0.5795588493347168,-19.945308685302734,0.047988563776016235,4.185009002685547,-0.30194875597953796,10.192023277282715,5.764465808868408,-5.940155982971191,-8.929862976074219,11.276249885559082,18.43670082092285,-3.0799574851989746,11.44243335723877,4.414200305938721,3.296078681945801,0.4498692452907562,8.427543640136719,3.37627911567688,12.696846961975098,12.691431045532227,7.1470770835876465,-16.151840209960938,18.205459594726562,3.2198171615600586,-11.188342094421387,-7.123251438140869,17.63788414001465,-1.4602340459823608,-2.9420037269592285,2.876007318496704,-5.8638105392456055,-7.822917461395264,-9.192309379577637,1.7398996353149414,-13.184061050415039,-4.833568096160889,6.777822971343994,-1.6973724365234375,2.7200965881347656,9.798282623291016,-2.418391227722168,-0.6356590986251831,-13.749624252319336,-15.301395416259766,1.316625714302063,6.233926773071289,13.354741096496582,1.2189124822616577,8.18831729888916,5.709819316864014,3.9711875915527344,0.1638345718383789,-19.178247451782227,-1.4649004936218262,-9.96230697631836,-2.3489813804626465,10.619330406188965,2.586749792098999,10.77761173248291,20.56337547302246,-3.655240774154663,22.346580505371094,-3.75246524810791,-1.9221993684768677,4.63243293762207,8.146047592163086,-4.895075798034668,1.002808928489685,3.8966400623321533,-11.048188209533691,8.255999565124512,0.5601735711097717,-5.067402362823486,-2.9889373779296875,-7.74263858795166,-5.530546188354492,13.139381408691406,9.894920349121094,2.911970853805542,3.720813512802124,1.5105228424072266,-8.485541343688965,14.652716636657715,-8.62178897857666,-9.319628715515137,-7.663729190826416,19.6751708984375,-5.213137149810791,3.7165610790252686,-4.438235282897949,-5.961094379425049,-14.646446228027344,-18.194055557250977,15.246954917907715,7.2272562980651855,-1.9907042980194092,-13.888025283813477,-11.244009971618652,0.886177122592926,-1.9476014375686646,-12.80799674987793,-4.477959632873535,-9.805988311767578,-12.984711647033691,2.7765209674835205,11.974635124206543,-1.5613893270492554,-18.889448165893555,16.582502365112305,-5.28320837020874,-1.863132357597351,-9.23042106628418,-4.006157875061035,-6.046866416931152,6.920934200286865,8.549721717834473,6.280606746673584,-13.662617683410645,6.197445869445801,5.04645299911499,-13.779170989990234,8.145378112792969,-3.5087780952453613,10.931363105773926,15.212249755859375,-7.058074951171875,18.339107513427734,5.848185062408447,1.1062391996383667,-0.24394217133522034,-8.632485389709473,2.299638271331787,2.849336862564087,20.125648498535156,3.3586933612823486,16.529109954833984,3.077024459838867,-3.9177513122558594,1.072031021118164,2.7865328788757324,-7.521285057067871,1.356795310974121,5.7352728843688965,-3.0340278148651123,-7.332497596740723,-14.67926025390625,-1.4962812662124634,-5.085587978363037,7.456228256225586,2.5831398963928223,1.0461277961730957,10.006718635559082,1.3851261138916016,10.624733924865723,2.5963022708892822,2.0658299922943115,2.747483968734741,-0.8165714740753174,24.181137084960938,3.5960216522216797,6.805818557739258,2.9045445919036865,-7.622817039489746,7.480805397033691,-6.10821008682251,-14.642773628234863,20.976234436035156,-6.0451555252075195,15.094704627990723,-12.093606948852539,23.829641342163086,4.233438491821289,2.1141679286956787,-2.87315034866333,4.223601341247559,17.027042388916016,-6.426727771759033,-2.6973342895507812,-2.318535804748535,4.227657794952393,-11.180554389953613,-5.372455596923828,-3.0574493408203125,-14.07841682434082,5.235565662384033,1.214673638343811,4.26254940032959,-13.772736549377441,-5.863407135009766,4.265805244445801,1.9645147323608398,-1.3423410654067993,5.224170684814453,26.57550048828125,-17.57671356201172,-9.965214729309082,6.263885021209717,5.808976650238037,-7.055380344390869,-19.251867294311523,-16.60948371887207,-6.349094390869141,-0.22350184619426727,4.990937232971191,-4.531650543212891,-8.547438621520996,-2.984812021255493,-14.488840103149414,5.036748886108398,8.111239433288574,7.903668403625488,4.847965240478516,4.487283706665039,-1.0234894752502441,2.093545913696289,-12.984464645385742,13.699675559997559,15.985225677490234,4.2260966300964355,-13.013007164001465,-8.381792068481445,8.856593132019043,3.619175434112549,1.8158903121948242,-7.182065963745117,-3.533541440963745,15.245599746704102,-5.25020170211792,-6.9635844230651855,-9.602845191955566,12.841851234436035],\"xaxis\":\"x\",\"y\":[-2.209916830062866,-11.01836109161377,3.808012008666992,21.735212326049805,13.342374801635742,-18.045812606811523,17.41246795654297,0.23011627793312073,-2.0852229595184326,1.0422418117523193,6.2616801261901855,17.69940948486328,-2.5478568077087402,3.3246867656707764,14.588611602783203,9.978071212768555,19.82442283630371,2.5561859607696533,-5.5106401443481445,-6.194777965545654,3.445681571960449,-1.530557632446289,3.830577850341797,19.32538414001465,-0.8952608108520508,2.7087888717651367,2.1047680377960205,0.33527663350105286,2.9026060104370117,-6.883675575256348,8.027861595153809,-3.1053428649902344,-6.63623046875,-11.464757919311523,-13.145478248596191,-18.09894561767578,-1.2795069217681885,2.9549450874328613,19.36490821838379,2.2590742111206055,-7.1179304122924805,-7.460218906402588,5.304141044616699,-2.050872802734375,-2.564000129699707,8.531476974487305,-24.43208885192871,-19.562149047851562,-11.364007949829102,0.2359999716281891,-0.6912391185760498,-10.183122634887695,-6.966346740722656,-14.43865966796875,-14.642461776733398,0.945599377155304,15.286953926086426,19.28109359741211,10.5869779586792,6.1150689125061035,10.5560302734375,-11.61731243133545,11.614492416381836,6.18526029586792,-2.6396148204803467,4.145308971405029,-3.974029779434204,-15.094419479370117,-5.828081130981445,-8.400975227355957,-4.166926860809326,-15.629364013671875,-4.5010576248168945,19.72359848022461,4.855013370513916,18.83700942993164,18.26528549194336,5.710711479187012,6.80411958694458,-17.918426513671875,0.29279181361198425,-10.972879409790039,-25.002492904663086,-10.32442855834961,-4.053971767425537,11.11950397491455,20.12957191467285,-4.4783806800842285,-6.735178470611572,-2.0019378662109375,9.212859153747559,18.577468872070312,-1.9744462966918945,-5.794340133666992,5.93707275390625,9.911162376403809,-5.638206481933594,19.307903289794922,-10.374469757080078,14.007002830505371,9.648130416870117,8.48210334777832,-4.049302101135254,-20.835596084594727,6.181247234344482,0.8247251510620117,-8.540824890136719,-15.832293510437012,14.297097206115723,-23.3148136138916,-23.332733154296875,-14.611299514770508,-9.95677375793457,-0.9868323802947998,17.170448303222656,-16.352291107177734,-20.800966262817383,-1.8054542541503906,-9.904603958129883,18.169843673706055,18.069669723510742,0.8640480637550354,-2.382697582244873,7.656141757965088,-0.5212563872337341,-8.789758682250977,5.83632755279541,12.280089378356934,1.4839023351669312,7.309117317199707,-0.920684278011322,-2.582685947418213,-0.5220441222190857,-8.282044410705566,6.920114040374756,-4.747027397155762,1.179032564163208,6.243204116821289,-12.289414405822754,-1.4776833057403564,-10.385211944580078,12.982412338256836,-0.4032551348209381,8.751103401184082,3.0485427379608154,-14.376835823059082,-7.808664321899414,-2.1539855003356934,-5.392258644104004,-15.37020492553711,-18.797775268554688,-4.711546897888184,-4.0457634925842285,-2.0579941272735596,-4.026300430297852,-18.72650718688965,12.240839004516602,-1.7251073122024536,6.241715431213379,13.505102157592773,15.623348236083984,-12.89574909210205,3.0092408657073975,-1.8045706748962402,14.880481719970703,5.926525115966797,-3.0823421478271484,1.002358078956604,-4.393320083618164,-5.785471439361572,10.114570617675781,-19.46108055114746,-12.8048677444458,7.486955642700195,-10.217845916748047,-13.560598373413086,-2.395268678665161,0.09366437047719955,-1.3512862920761108,5.904253005981445,0.12506353855133057,5.60084342956543,12.82961654663086,-4.037540912628174,0.11340053379535675,-6.342978477478027,0.5764665007591248,5.739816665649414,0.10291323065757751,-2.899573802947998,-1.984456181526184,-0.14716210961341858,-2.8995585441589355,5.105426788330078,9.373812675476074,-2.549497127532959,13.519766807556152,9.080218315124512,-3.782115936279297,-5.076336860656738,1.0871977806091309,-11.714203834533691,15.382303237915039,-2.1551623344421387,-16.225908279418945,2.036578416824341,14.90740966796875,-3.957460403442383,4.722497463226318,-18.263553619384766,0.9836175441741943,1.3810597658157349,-20.71117401123047,-10.53642463684082,-10.745426177978516,-0.7993029356002808,11.771665573120117,14.362232208251953,-13.896172523498535,-10.233716011047363,-10.61214828491211,10.943485260009766,21.092952728271484,2.561178684234619,-10.301023483276367,-9.159161567687988,-11.933308601379395,17.155344009399414,-17.144956588745117,6.167428970336914,-2.217802047729492,10.59183120727539,-8.132694244384766,7.761688709259033,4.804428577423096,-19.458871841430664,17.45053482055664,-6.122167110443115,8.580629348754883,5.6110124588012695,-2.3189854621887207,6.898296356201172,-4.859899520874023,-1.739588975906372,5.004580974578857,-4.571877479553223,14.144929885864258,1.4830125570297241,11.890752792358398,-7.751049518585205,7.906774997711182,-7.8757805824279785,-15.236928939819336,-4.945367336273193,-10.46317195892334,18.229536056518555,13.576934814453125,-6.692555904388428,-7.2728681564331055,9.932656288146973,7.446250915527344,-16.627124786376953,6.3353657722473145,-0.5787017941474915,10.37098217010498,-0.04713300243020058,-12.468070983886719,-14.628679275512695,4.553826332092285,-6.013453960418701,8.617030143737793,-2.807523250579834,-3.775444507598877,-0.5961027145385742,-7.77894401550293,-15.693151473999023,-8.30016040802002,1.6642338037490845,-12.664887428283691,-4.347984313964844,-16.956737518310547,5.021258354187012,-2.465867042541504,-13.503774642944336,-1.9822317361831665,-3.509495735168457,-2.8881068229675293,11.117712020874023,10.71663761138916,-16.477855682373047,0.8533962965011597,-0.38228073716163635,-5.300587177276611,-7.774402618408203,6.20830774307251,-4.46881628036499,-4.4938178062438965,-3.051306962966919,11.70959186553955,19.232566833496094,-4.686051368713379,-2.533426523208618,-1.4836009740829468,14.6286039352417,8.052475929260254,9.823925018310547,-16.626251220703125,-23.555034637451172,-4.3136396408081055,16.48367691040039,-24.582860946655273,-8.643708229064941,-4.540191173553467,-12.058464050292969,-18.313581466674805,-11.88595199584961,5.908050537109375,5.539334774017334,-9.884255409240723,-5.077825546264648,-14.046603202819824,-11.984301567077637,-20.0610294342041,-9.805243492126465,2.500941514968872,1.0008121728897095,3.3806047439575195,-7.256163120269775,7.468453884124756,11.316637992858887,19.039600372314453,5.8027496337890625,-2.701486587524414,-3.1972780227661133,6.360292434692383,4.844485759735107,4.84011697769165,-8.878573417663574,9.918405532836914,-15.274588584899902,3.0195045471191406,6.2699079513549805,16.704605102539062,-8.691370964050293,-1.7439756393432617,6.317358493804932,6.566998481750488,1.495002269744873,4.699014186859131,4.634432315826416,3.229100465774536,-3.1831743717193604,0.23937690258026123,6.598079681396484,-8.712319374084473,9.797123908996582,1.8807783126831055,4.953118324279785,0.1373264491558075,7.810451507568359,6.1865997314453125,-1.4903652667999268,6.971934795379639,13.75572681427002,7.37749719619751,11.473309516906738,1.044561505317688,0.15676508843898773,6.312385559082031,-5.513895511627197,3.217351198196411,20.15516471862793,-18.28105926513672,-13.797625541687012,7.0111517906188965,0.7204539179801941,0.022834643721580505,-9.239097595214844,10.37407112121582,-2.1099436283111572,11.65933895111084,3.742048501968384,12.006505966186523,-18.001201629638672,-20.937854766845703,-8.513786315917969,-9.197927474975586,19.41156578063965,2.229100465774536,-7.697701454162598,3.4056806564331055,5.654721260070801,-14.869234085083008,-3.2464919090270996,-3.1593995094299316,-3.184946298599243,17.890239715576172,-7.152709007263184,4.713922023773193,6.999256610870361,-0.45912814140319824,-7.530496120452881,1.443625569343567,-6.468343734741211,-5.53389310836792,8.452463150024414,-12.243083953857422,6.113932132720947,-3.009186029434204,-10.867714881896973,-3.7340822219848633,3.8137340545654297,-3.785045623779297,1.4913913011550903,3.622746467590332,15.307480812072754,1.134487509727478,-23.05187225341797,-1.7220121622085571,2.859743118286133,0.2067781686782837,6.686182022094727,12.194364547729492,6.404774188995361,-6.2597808837890625,-0.12793032824993134,-5.135397911071777,-0.6727101802825928,-1.9505481719970703,-5.828022480010986,4.31014347076416,-15.447628021240234,2.8102378845214844,7.573161602020264,7.660043716430664,-6.213778018951416,-0.5676224231719971,-4.798145294189453,-5.150059223175049,-11.189859390258789,12.045374870300293,12.322044372558594,3.024993419647217,5.123837471008301,-11.04045295715332,8.758879661560059,-24.351585388183594,1.3836227655410767,-8.763668060302734,-14.633164405822754,-10.549261093139648,20.206090927124023,8.561089515686035,15.469887733459473,-15.609613418579102,-2.795502185821533,-10.204984664916992,6.858224868774414,11.836134910583496,14.735894203186035,-5.238773345947266,16.895328521728516,15.038131713867188,-5.808372497558594,1.05223548412323,-8.609254837036133,-11.820218086242676,-7.492547512054443,5.1405158042907715,-13.598119735717773,-9.42015552520752,0.7331880331039429,-7.716526985168457,-6.258833885192871,-1.251465916633606,11.81210708618164,0.30121758580207825,-20.0905704498291,-5.090145111083984,-1.4451243877410889,19.61756134033203,7.978488445281982,-5.6649088859558105,-14.626768112182617,-2.070626974105835,-9.932317733764648,-6.4147539138793945,19.537023544311523,-2.435314178466797,-4.266129970550537,-1.5713695287704468,-11.44801139831543,-24.843225479125977,-0.545774519443512,16.767086029052734,16.62152099609375,-8.412999153137207,-5.8988823890686035,11.941679000854492,-0.4287712275981903,-10.566000938415527,-1.3988404273986816,-6.800045490264893,-0.2316645234823227,5.080438613891602,9.877605438232422,-3.379485845565796,-3.461751937866211,-2.5688364505767822,-16.12171173095703,13.244166374206543,5.867908954620361,-3.019528388977051,2.53934383392334,14.509442329406738,12.569726943969727,-1.6039973497390747,15.320791244506836,12.25865364074707,3.0666663646698,-11.321255683898926,-5.4531121253967285,0.12324652820825577,-14.48221206665039,1.7614747285842896,-2.1918840408325195,-5.307114124298096,-6.3893585205078125,-7.8171892166137695,-13.045223236083984,-3.1359879970550537,3.442594289779663,13.724024772644043,-2.5823814868927,-4.4859795570373535,4.091186046600342,-12.833295822143555,21.44580078125,0.47927409410476685,10.328301429748535,2.0698091983795166,-15.677273750305176,9.033218383789062,-8.30823040008545,-14.703081130981445,7.500165939331055,-12.943090438842773,7.433652877807617,-5.041318893432617,-2.6431691646575928,-7.512545108795166,-1.3151108026504517,-4.394590377807617,-2.0775585174560547,-14.517481803894043,-16.130146026611328,-13.440184593200684,-2.611931085586548,9.287971496582031,-3.9169516563415527,-16.91995620727539,12.064215660095215,-3.241140604019165,1.548447608947754,-13.295916557312012,-15.254799842834473,-10.571917533874512,-24.1873722076416,-21.352800369262695,1.7469478845596313,6.430798530578613,-8.239075660705566,-5.973780632019043,-5.01431131362915,14.871482849121094,12.66578197479248,2.7238762378692627,19.118358612060547,3.1715173721313477,0.8420016765594482,-2.711308479309082,-1.3003290891647339,-24.338314056396484,-2.765636444091797,-14.238465309143066,-16.648115158081055,8.069952964782715,3.950303316116333,-1.1318445205688477,-13.913175582885742,12.632574081420898,-0.519059419631958,1.758175015449524,-9.037616729736328,3.2888309955596924,-1.0552928447723389,-11.719256401062012,11.12632942199707,-0.08904453366994858,17.041215896606445,-15.673282623291016,-19.49382781982422,14.925851821899414,1.7249195575714111,-14.030062675476074,-7.752252578735352,-3.235353469848633,-3.7299816608428955,-24.69034194946289,1.407159447669983,-12.395866394042969,-1.9900907278060913,7.383760452270508,9.001249313354492,-6.476798057556152,-1.7416542768478394,-2.457359552383423,-12.103604316711426,3.7474474906921387,11.258896827697754,5.148917198181152,-11.986710548400879,2.9531664848327637,-9.806903839111328,0.9229681491851807,-6.770621299743652,-11.73238468170166,-16.490381240844727,16.33781623840332,-4.468777179718018,-8.210339546203613,8.435567855834961,-10.727897644042969,-6.881170749664307,11.16663932800293,9.185050010681152,-2.075213670730591,7.751537322998047,-2.9616360664367676,-3.4998974800109863,0.8525210022926331,1.1460750102996826,-14.039166450500488,-0.7185362577438354,-15.50269889831543,0.40417471528053284,9.17685604095459,-1.039013385772705,7.605665683746338,10.148709297180176,-19.516477584838867,8.827466011047363,12.90674877166748,14.409212112426758,6.009950160980225,-4.403076171875,5.967123508453369,3.3203415870666504,-4.27008056640625,-3.500525712966919,13.38476848602295,3.9483113288879395,-3.8017430305480957,1.0838265419006348,-1.148653268814087,-4.682380199432373,9.019798278808594,-11.627496719360352,10.526108741760254,-16.723960876464844,7.915669918060303,16.525663375854492,4.397432327270508,-4.725134372711182,-6.037501335144043,1.2980319261550903,10.937745094299316,-2.155475616455078,2.089982032775879,11.192890167236328,-21.33694076538086,6.634347915649414,-10.488359451293945,9.059089660644531,-5.830097198486328,0.9591020345687866,16.263620376586914,4.814530372619629,-2.620121955871582,1.8914865255355835,4.553079605102539,6.222399711608887,13.440608978271484,-7.66721773147583,8.710320472717285,-1.6114161014556885,18.844284057617188,-2.600353956222534,1.0442601442337036,0.23477953672409058,16.271984100341797,10.814059257507324,-4.892355442047119,2.2338638305664062,2.8853366374969482,11.67078971862793,-6.619422912597656,-7.770392417907715,8.480759620666504,-11.414082527160645,-24.370393753051758,-13.226881980895996,2.6920292377471924,-4.15991735458374,12.29571533203125,-1.6210999488830566,16.741893768310547,0.12450464814901352,-4.586557388305664,-10.427355766296387,-9.304373741149902,-12.103048324584961,-4.111328125,10.644064903259277,12.311073303222656,-17.058042526245117,-13.224651336669922,4.095172882080078,-10.889562606811523,17.129297256469727,19.507776260375977,10.544905662536621,5.694991588592529,-2.9376485347747803,5.562698841094971,-10.67249870300293,13.636689186096191,1.5393840074539185,1.773788571357727,-7.650045394897461,19.11168670654297,-1.0954620838165283,4.5193190574646,-22.56411361694336,9.446235656738281,-1.0096076726913452,-10.461398124694824,-15.659321784973145,8.9466552734375,-15.716742515563965,-3.5546655654907227,0.9658754467964172,-12.952621459960938,-6.060144424438477,5.228958606719971,10.523630142211914,-6.812310218811035,-8.240668296813965,-17.332571029663086,2.371263027191162,6.60541296005249,-0.03375692293047905,-10.76573657989502,4.4330735206604,-4.798819065093994,-18.338457107543945,-9.43391227722168,4.567842960357666,-8.673373222351074,-4.414883613586426,-10.509711265563965,12.785343170166016,13.270621299743652,0.7958920001983643,-8.690718650817871,2.043407440185547,-8.618175506591797,-0.23752540349960327,-9.7703857421875,-4.009651184082031,14.579339981079102,4.675376892089844,10.907278060913086,-4.5315752029418945,-6.474678039550781,-4.809817314147949,-5.828019618988037,-3.2657322883605957,-3.2636778354644775,7.660953521728516,17.334779739379883,-6.157709121704102,-18.22258949279785,14.626716613769531,-4.392454624176025,-14.198041915893555,-0.8396247625350952,-7.442284107208252,-3.4405856132507324,-5.532962322235107,9.371244430541992,9.461846351623535,-4.75612735748291,-5.588946342468262,-25.403366088867188,-13.78366470336914,-8.878634452819824,-6.484224319458008,-9.694134712219238,18.062742233276367,-2.8692593574523926,-14.511343955993652,-2.6901614665985107,8.920490264892578,15.337337493896484,10.812506675720215,-2.313267707824707,-2.8811757564544678,-6.744426727294922,0.31193971633911133,19.726394653320312,-17.333362579345703,-8.235708236694336,-6.933170795440674,-19.544742584228516,5.155008316040039,5.7236480712890625,6.447102069854736,3.643969774246216,-21.402738571166992,-12.389520645141602,17.574851989746094,-8.422952651977539,-5.297963619232178,2.0956203937530518,-9.061347007751465,-9.781689643859863,-9.71075439453125,13.995359420776367,-9.511689186096191,16.548343658447266,-2.617100238800049,-9.851703643798828,-3.2347443103790283,13.841170310974121,-8.573381423950195,-12.664037704467773,-9.894518852233887,19.196069717407227,-5.42467737197876,-19.471603393554688,-10.955215454101562,-8.304448127746582,-0.06295408308506012,10.982162475585938,-12.236297607421875,-8.751317977905273,2.135183572769165,1.7897316217422485,3.297020196914673,18.715572357177734,-3.5707287788391113,-18.794340133666992,-9.435689926147461,17.420188903808594,4.97519063949585,7.5317840576171875,5.001341819763184,-6.998757362365723,5.590329170227051,-24.449199676513672,10.95085620880127,-10.985634803771973,4.734123706817627,6.089476585388184,-0.5450013279914856,-1.668707013130188,3.0181188583374023,-24.838123321533203,13.564618110656738,16.02606773376465,-18.23300552368164,11.462909698486328,1.8038352727890015,-1.3390178680419922,-6.112257480621338,-0.7124902606010437,-3.732027292251587,14.372298240661621,-14.542760848999023,-9.30461597442627,-24.454416275024414,3.5503158569335938,-18.77104949951172,8.844134330749512,2.4556288719177246,-5.23845911026001,8.459752082824707,10.414753913879395,2.2986271381378174,-5.476415634155273,-4.7702250480651855,1.494884967803955,-3.288680076599121,-6.7431182861328125,-2.796043634414673,-22.41484260559082,11.882214546203613,-8.393980979919434,8.965344429016113,8.193443298339844,-8.735798835754395,13.25784683227539,-9.514432907104492,-20.01892852783203,-5.832132339477539,2.1035144329071045,2.193049669265747,0.6195168495178223,-11.692112922668457,-0.6510223746299744,-8.022896766662598,15.737396240234375,14.865309715270996,-10.530344009399414,-3.8524131774902344,-9.510669708251953,1.0819593667984009,8.93855094909668,-0.4980618357658386,6.395615577697754,4.702441215515137,-0.9268287420272827,2.744297742843628,-19.961130142211914,-15.054275512695312,2.7563419342041016,-18.74125099182129,0.49941787123680115,-9.122965812683105,8.341470718383789,-8.52657413482666,14.513998031616211,8.246878623962402,-12.606860160827637,2.6513490676879883,3.4452290534973145,13.951835632324219,8.326234817504883,-5.897607803344727,2.1108312606811523,-2.037356376647949,-19.374536514282227,9.31209659576416,-5.632663726806641,8.431473731994629,7.394766807556152,9.518391609191895,8.447996139526367,-9.425999641418457,15.415221214294434,15.468195915222168,-4.47484016418457,-9.728976249694824,-5.329347610473633,-7.380153656005859,0.9200385212898254,8.519279479980469,-3.285222291946411,-13.545757293701172,3.1357486248016357,-13.7745943069458,8.496516227722168,-2.428194999694824,-6.832972526550293,0.19988389313220978,2.494230031967163,-5.770644664764404,-9.248604774475098,0.5227586030960083,7.641097545623779,-9.138343811035156,13.044358253479004,19.523447036743164,-10.986043930053711,-24.687694549560547,7.604352951049805,9.228614807128906,9.402297019958496,20.995849609375,-16.61578369140625,8.02125358581543,-6.713551998138428,-10.499849319458008,-5.461559295654297,-18.79094123840332,6.5821614265441895,3.231125831604004,0.8729169964790344,2.2421627044677734],\"yaxis\":\"y\",\"type\":\"scatter\"}],                        {\"template\":{\"data\":{\"bar\":[{\"error_x\":{\"color\":\"#2a3f5f\"},\"error_y\":{\"color\":\"#2a3f5f\"},\"marker\":{\"line\":{\"color\":\"#E5ECF6\",\"width\":0.5},\"pattern\":{\"fillmode\":\"overlay\",\"size\":10,\"solidity\":0.2}},\"type\":\"bar\"}],\"barpolar\":[{\"marker\":{\"line\":{\"color\":\"#E5ECF6\",\"width\":0.5},\"pattern\":{\"fillmode\":\"overlay\",\"size\":10,\"solidity\":0.2}},\"type\":\"barpolar\"}],\"carpet\":[{\"aaxis\":{\"endlinecolor\":\"#2a3f5f\",\"gridcolor\":\"white\",\"linecolor\":\"white\",\"minorgridcolor\":\"white\",\"startlinecolor\":\"#2a3f5f\"},\"baxis\":{\"endlinecolor\":\"#2a3f5f\",\"gridcolor\":\"white\",\"linecolor\":\"white\",\"minorgridcolor\":\"white\",\"startlinecolor\":\"#2a3f5f\"},\"type\":\"carpet\"}],\"choropleth\":[{\"colorbar\":{\"outlinewidth\":0,\"ticks\":\"\"},\"type\":\"choropleth\"}],\"contour\":[{\"colorbar\":{\"outlinewidth\":0,\"ticks\":\"\"},\"colorscale\":[[0.0,\"#0d0887\"],[0.1111111111111111,\"#46039f\"],[0.2222222222222222,\"#7201a8\"],[0.3333333333333333,\"#9c179e\"],[0.4444444444444444,\"#bd3786\"],[0.5555555555555556,\"#d8576b\"],[0.6666666666666666,\"#ed7953\"],[0.7777777777777778,\"#fb9f3a\"],[0.8888888888888888,\"#fdca26\"],[1.0,\"#f0f921\"]],\"type\":\"contour\"}],\"contourcarpet\":[{\"colorbar\":{\"outlinewidth\":0,\"ticks\":\"\"},\"type\":\"contourcarpet\"}],\"heatmap\":[{\"colorbar\":{\"outlinewidth\":0,\"ticks\":\"\"},\"colorscale\":[[0.0,\"#0d0887\"],[0.1111111111111111,\"#46039f\"],[0.2222222222222222,\"#7201a8\"],[0.3333333333333333,\"#9c179e\"],[0.4444444444444444,\"#bd3786\"],[0.5555555555555556,\"#d8576b\"],[0.6666666666666666,\"#ed7953\"],[0.7777777777777778,\"#fb9f3a\"],[0.8888888888888888,\"#fdca26\"],[1.0,\"#f0f921\"]],\"type\":\"heatmap\"}],\"heatmapgl\":[{\"colorbar\":{\"outlinewidth\":0,\"ticks\":\"\"},\"colorscale\":[[0.0,\"#0d0887\"],[0.1111111111111111,\"#46039f\"],[0.2222222222222222,\"#7201a8\"],[0.3333333333333333,\"#9c179e\"],[0.4444444444444444,\"#bd3786\"],[0.5555555555555556,\"#d8576b\"],[0.6666666666666666,\"#ed7953\"],[0.7777777777777778,\"#fb9f3a\"],[0.8888888888888888,\"#fdca26\"],[1.0,\"#f0f921\"]],\"type\":\"heatmapgl\"}],\"histogram\":[{\"marker\":{\"pattern\":{\"fillmode\":\"overlay\",\"size\":10,\"solidity\":0.2}},\"type\":\"histogram\"}],\"histogram2d\":[{\"colorbar\":{\"outlinewidth\":0,\"ticks\":\"\"},\"colorscale\":[[0.0,\"#0d0887\"],[0.1111111111111111,\"#46039f\"],[0.2222222222222222,\"#7201a8\"],[0.3333333333333333,\"#9c179e\"],[0.4444444444444444,\"#bd3786\"],[0.5555555555555556,\"#d8576b\"],[0.6666666666666666,\"#ed7953\"],[0.7777777777777778,\"#fb9f3a\"],[0.8888888888888888,\"#fdca26\"],[1.0,\"#f0f921\"]],\"type\":\"histogram2d\"}],\"histogram2dcontour\":[{\"colorbar\":{\"outlinewidth\":0,\"ticks\":\"\"},\"colorscale\":[[0.0,\"#0d0887\"],[0.1111111111111111,\"#46039f\"],[0.2222222222222222,\"#7201a8\"],[0.3333333333333333,\"#9c179e\"],[0.4444444444444444,\"#bd3786\"],[0.5555555555555556,\"#d8576b\"],[0.6666666666666666,\"#ed7953\"],[0.7777777777777778,\"#fb9f3a\"],[0.8888888888888888,\"#fdca26\"],[1.0,\"#f0f921\"]],\"type\":\"histogram2dcontour\"}],\"mesh3d\":[{\"colorbar\":{\"outlinewidth\":0,\"ticks\":\"\"},\"type\":\"mesh3d\"}],\"parcoords\":[{\"line\":{\"colorbar\":{\"outlinewidth\":0,\"ticks\":\"\"}},\"type\":\"parcoords\"}],\"pie\":[{\"automargin\":true,\"type\":\"pie\"}],\"scatter\":[{\"marker\":{\"colorbar\":{\"outlinewidth\":0,\"ticks\":\"\"}},\"type\":\"scatter\"}],\"scatter3d\":[{\"line\":{\"colorbar\":{\"outlinewidth\":0,\"ticks\":\"\"}},\"marker\":{\"colorbar\":{\"outlinewidth\":0,\"ticks\":\"\"}},\"type\":\"scatter3d\"}],\"scattercarpet\":[{\"marker\":{\"colorbar\":{\"outlinewidth\":0,\"ticks\":\"\"}},\"type\":\"scattercarpet\"}],\"scattergeo\":[{\"marker\":{\"colorbar\":{\"outlinewidth\":0,\"ticks\":\"\"}},\"type\":\"scattergeo\"}],\"scattergl\":[{\"marker\":{\"colorbar\":{\"outlinewidth\":0,\"ticks\":\"\"}},\"type\":\"scattergl\"}],\"scattermapbox\":[{\"marker\":{\"colorbar\":{\"outlinewidth\":0,\"ticks\":\"\"}},\"type\":\"scattermapbox\"}],\"scatterpolar\":[{\"marker\":{\"colorbar\":{\"outlinewidth\":0,\"ticks\":\"\"}},\"type\":\"scatterpolar\"}],\"scatterpolargl\":[{\"marker\":{\"colorbar\":{\"outlinewidth\":0,\"ticks\":\"\"}},\"type\":\"scatterpolargl\"}],\"scatterternary\":[{\"marker\":{\"colorbar\":{\"outlinewidth\":0,\"ticks\":\"\"}},\"type\":\"scatterternary\"}],\"surface\":[{\"colorbar\":{\"outlinewidth\":0,\"ticks\":\"\"},\"colorscale\":[[0.0,\"#0d0887\"],[0.1111111111111111,\"#46039f\"],[0.2222222222222222,\"#7201a8\"],[0.3333333333333333,\"#9c179e\"],[0.4444444444444444,\"#bd3786\"],[0.5555555555555556,\"#d8576b\"],[0.6666666666666666,\"#ed7953\"],[0.7777777777777778,\"#fb9f3a\"],[0.8888888888888888,\"#fdca26\"],[1.0,\"#f0f921\"]],\"type\":\"surface\"}],\"table\":[{\"cells\":{\"fill\":{\"color\":\"#EBF0F8\"},\"line\":{\"color\":\"white\"}},\"header\":{\"fill\":{\"color\":\"#C8D4E3\"},\"line\":{\"color\":\"white\"}},\"type\":\"table\"}]},\"layout\":{\"annotationdefaults\":{\"arrowcolor\":\"#2a3f5f\",\"arrowhead\":0,\"arrowwidth\":1},\"autotypenumbers\":\"strict\",\"coloraxis\":{\"colorbar\":{\"outlinewidth\":0,\"ticks\":\"\"}},\"colorscale\":{\"diverging\":[[0,\"#8e0152\"],[0.1,\"#c51b7d\"],[0.2,\"#de77ae\"],[0.3,\"#f1b6da\"],[0.4,\"#fde0ef\"],[0.5,\"#f7f7f7\"],[0.6,\"#e6f5d0\"],[0.7,\"#b8e186\"],[0.8,\"#7fbc41\"],[0.9,\"#4d9221\"],[1,\"#276419\"]],\"sequential\":[[0.0,\"#0d0887\"],[0.1111111111111111,\"#46039f\"],[0.2222222222222222,\"#7201a8\"],[0.3333333333333333,\"#9c179e\"],[0.4444444444444444,\"#bd3786\"],[0.5555555555555556,\"#d8576b\"],[0.6666666666666666,\"#ed7953\"],[0.7777777777777778,\"#fb9f3a\"],[0.8888888888888888,\"#fdca26\"],[1.0,\"#f0f921\"]],\"sequentialminus\":[[0.0,\"#0d0887\"],[0.1111111111111111,\"#46039f\"],[0.2222222222222222,\"#7201a8\"],[0.3333333333333333,\"#9c179e\"],[0.4444444444444444,\"#bd3786\"],[0.5555555555555556,\"#d8576b\"],[0.6666666666666666,\"#ed7953\"],[0.7777777777777778,\"#fb9f3a\"],[0.8888888888888888,\"#fdca26\"],[1.0,\"#f0f921\"]]},\"colorway\":[\"#636efa\",\"#EF553B\",\"#00cc96\",\"#ab63fa\",\"#FFA15A\",\"#19d3f3\",\"#FF6692\",\"#B6E880\",\"#FF97FF\",\"#FECB52\"],\"font\":{\"color\":\"#2a3f5f\"},\"geo\":{\"bgcolor\":\"white\",\"lakecolor\":\"white\",\"landcolor\":\"#E5ECF6\",\"showlakes\":true,\"showland\":true,\"subunitcolor\":\"white\"},\"hoverlabel\":{\"align\":\"left\"},\"hovermode\":\"closest\",\"mapbox\":{\"style\":\"light\"},\"paper_bgcolor\":\"white\",\"plot_bgcolor\":\"#E5ECF6\",\"polar\":{\"angularaxis\":{\"gridcolor\":\"white\",\"linecolor\":\"white\",\"ticks\":\"\"},\"bgcolor\":\"#E5ECF6\",\"radialaxis\":{\"gridcolor\":\"white\",\"linecolor\":\"white\",\"ticks\":\"\"}},\"scene\":{\"xaxis\":{\"backgroundcolor\":\"#E5ECF6\",\"gridcolor\":\"white\",\"gridwidth\":2,\"linecolor\":\"white\",\"showbackground\":true,\"ticks\":\"\",\"zerolinecolor\":\"white\"},\"yaxis\":{\"backgroundcolor\":\"#E5ECF6\",\"gridcolor\":\"white\",\"gridwidth\":2,\"linecolor\":\"white\",\"showbackground\":true,\"ticks\":\"\",\"zerolinecolor\":\"white\"},\"zaxis\":{\"backgroundcolor\":\"#E5ECF6\",\"gridcolor\":\"white\",\"gridwidth\":2,\"linecolor\":\"white\",\"showbackground\":true,\"ticks\":\"\",\"zerolinecolor\":\"white\"}},\"shapedefaults\":{\"line\":{\"color\":\"#2a3f5f\"}},\"ternary\":{\"aaxis\":{\"gridcolor\":\"white\",\"linecolor\":\"white\",\"ticks\":\"\"},\"baxis\":{\"gridcolor\":\"white\",\"linecolor\":\"white\",\"ticks\":\"\"},\"bgcolor\":\"#E5ECF6\",\"caxis\":{\"gridcolor\":\"white\",\"linecolor\":\"white\",\"ticks\":\"\"}},\"title\":{\"x\":0.05},\"xaxis\":{\"automargin\":true,\"gridcolor\":\"white\",\"linecolor\":\"white\",\"ticks\":\"\",\"title\":{\"standoff\":15},\"zerolinecolor\":\"white\",\"zerolinewidth\":2},\"yaxis\":{\"automargin\":true,\"gridcolor\":\"white\",\"linecolor\":\"white\",\"ticks\":\"\",\"title\":{\"standoff\":15},\"zerolinecolor\":\"white\",\"zerolinewidth\":2}}},\"xaxis\":{\"anchor\":\"y\",\"domain\":[0.0,1.0],\"title\":{\"text\":\"x_component\"}},\"yaxis\":{\"anchor\":\"x\",\"domain\":[0.0,1.0],\"title\":{\"text\":\"y_component\"}},\"coloraxis\":{\"colorbar\":{\"title\":{\"text\":\"cluster\"}},\"colorscale\":[[0.0,\"#0d0887\"],[0.1111111111111111,\"#46039f\"],[0.2222222222222222,\"#7201a8\"],[0.3333333333333333,\"#9c179e\"],[0.4444444444444444,\"#bd3786\"],[0.5555555555555556,\"#d8576b\"],[0.6666666666666666,\"#ed7953\"],[0.7777777777777778,\"#fb9f3a\"],[0.8888888888888888,\"#fdca26\"],[1.0,\"#f0f921\"]]},\"legend\":{\"tracegroupgap\":0},\"margin\":{\"t\":60},\"height\":800},                        {\"responsive\": true}                    ).then(function(){\n",
              "                            \n",
              "var gd = document.getElementById('b7c41b70-ccb0-4605-8d0b-e78e44f91673');\n",
              "var x = new MutationObserver(function (mutations, observer) {{\n",
              "        var display = window.getComputedStyle(gd).display;\n",
              "        if (!display || display === 'none') {{\n",
              "            console.log([gd, 'removed!']);\n",
              "            Plotly.purge(gd);\n",
              "            observer.disconnect();\n",
              "        }}\n",
              "}});\n",
              "\n",
              "// Listen for the removal of the full notebook cells\n",
              "var notebookContainer = gd.closest('#notebook-container');\n",
              "if (notebookContainer) {{\n",
              "    x.observe(notebookContainer, {childList: true});\n",
              "}}\n",
              "\n",
              "// Listen for the clearing of the current output cell\n",
              "var outputEl = gd.closest('.output');\n",
              "if (outputEl) {{\n",
              "    x.observe(outputEl, {childList: true});\n",
              "}}\n",
              "\n",
              "                        })                };                            </script>        </div>\n",
              "</body>\n",
              "</html>"
            ]
          },
          "metadata": {}
        }
      ]
    },
    {
      "cell_type": "markdown",
      "source": [
        "# **Silhuotte Score**"
      ],
      "metadata": {
        "id": "Lrg_UEts1Z0O"
      }
    },
    {
      "cell_type": "code",
      "source": [
        "from sklearn.metrics import silhouette_score\n",
        "silhouette_score(train_data['vectorized_text'].values.tolist(),df[\"cluster\"].values)"
      ],
      "metadata": {
        "colab": {
          "base_uri": "https://localhost:8080/"
        },
        "id": "LYBPWrq7xMI7",
        "outputId": "effa301c-b4be-42c1-fe93-0f848bcbd13b"
      },
      "execution_count": 53,
      "outputs": [
        {
          "output_type": "execute_result",
          "data": {
            "text/plain": [
              "-0.10854254104092846"
            ]
          },
          "metadata": {},
          "execution_count": 53
        }
      ]
    },
    {
      "cell_type": "code",
      "source": [
        ""
      ],
      "metadata": {
        "id": "Bq9cEwK61SBP"
      },
      "execution_count": null,
      "outputs": []
    }
  ]
}